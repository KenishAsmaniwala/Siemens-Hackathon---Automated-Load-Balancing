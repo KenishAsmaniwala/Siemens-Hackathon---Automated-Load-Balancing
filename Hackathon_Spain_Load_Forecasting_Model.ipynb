{
  "nbformat": 4,
  "nbformat_minor": 0,
  "metadata": {
    "colab": {
      "name": "Hackathon_Spain_Load_Forecasting_Model.ipynb",
      "provenance": [],
      "collapsed_sections": []
    },
    "kernelspec": {
      "display_name": "Python 3",
      "name": "python3"
    },
    "language_info": {
      "name": "python"
    }
  },
  "cells": [
    {
      "cell_type": "code",
      "metadata": {
        "id": "9flk9TDKHRTW"
      },
      "source": [
        "import pandas as pd\n",
        "import numpy as np\n",
        "import seaborn as sns\n",
        "import matplotlib.pyplot as plt\n",
        "import warnings\n",
        "warnings.simplefilter('ignore')\n",
        "from sklearn.metrics import r2_score\n",
        "from sklearn.metrics import mean_squared_error\n",
        "from sklearn.model_selection import KFold\n"
      ],
      "execution_count": 1,
      "outputs": []
    },
    {
      "cell_type": "markdown",
      "metadata": {
        "id": "j-KEdjLqIhII"
      },
      "source": [
        "\n",
        "# Data import\n"
      ]
    },
    {
      "cell_type": "code",
      "metadata": {
        "colab": {
          "resources": {
            "http://localhost:8080/nbextensions/google.colab/files.js": {
              "data": "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",
              "ok": true,
              "headers": [
                [
                  "content-type",
                  "application/javascript"
                ]
              ],
              "status": 200,
              "status_text": ""
            }
          },
          "base_uri": "https://localhost:8080/",
          "height": 242
        },
        "id": "f4I_EqByHUEz",
        "outputId": "4176ce07-e2f2-4cd5-915b-a50f99710599"
      },
      "source": [
        "from google.colab import files\n",
        "uploaded = files.upload()"
      ],
      "execution_count": 2,
      "outputs": [
        {
          "output_type": "display_data",
          "data": {
            "text/html": [
              "\n",
              "     <input type=\"file\" id=\"files-5c4375b0-504b-4fcf-aaa7-8b417a073825\" name=\"files[]\" multiple disabled\n",
              "        style=\"border:none\" />\n",
              "     <output id=\"result-5c4375b0-504b-4fcf-aaa7-8b417a073825\">\n",
              "      Upload widget is only available when the cell has been executed in the\n",
              "      current browser session. Please rerun this cell to enable.\n",
              "      </output>\n",
              "      <script src=\"/nbextensions/google.colab/files.js\"></script> "
            ],
            "text/plain": [
              "<IPython.core.display.HTML object>"
            ]
          },
          "metadata": {}
        },
        {
          "output_type": "stream",
          "name": "stdout",
          "text": [
            "Saving Total Load - Day Ahead _ Actual_201601010000-201701010000.csv to Total Load - Day Ahead _ Actual_201601010000-201701010000.csv\n",
            "Saving Total Load - Day Ahead _ Actual_201701010000-201801010000.csv to Total Load - Day Ahead _ Actual_201701010000-201801010000.csv\n",
            "Saving Total Load - Day Ahead _ Actual_201801010000-201901010000.csv to Total Load - Day Ahead _ Actual_201801010000-201901010000.csv\n",
            "Saving Total Load - Day Ahead _ Actual_201901010000-202001010000.csv to Total Load - Day Ahead _ Actual_201901010000-202001010000.csv\n",
            "Saving Total Load - Day Ahead _ Actual_202001010000-202101010000.csv to Total Load - Day Ahead _ Actual_202001010000-202101010000.csv\n",
            "Saving Total Load - Day Ahead _ Actual_202101010000-202201010000.csv to Total Load - Day Ahead _ Actual_202101010000-202201010000.csv\n"
          ]
        }
      ]
    },
    {
      "cell_type": "code",
      "metadata": {
        "id": "DIezG3caHaNK"
      },
      "source": [
        "import io\n",
        "df2016 = pd.read_csv(io.BytesIO(uploaded['Total Load - Day Ahead _ Actual_201601010000-201701010000.csv']))\n",
        "df2017 = pd.read_csv(io.BytesIO(uploaded['Total Load - Day Ahead _ Actual_201701010000-201801010000.csv']))\n",
        "df2018 = pd.read_csv(io.BytesIO(uploaded['Total Load - Day Ahead _ Actual_201801010000-201901010000.csv']))\n",
        "df2019 = pd.read_csv(io.BytesIO(uploaded['Total Load - Day Ahead _ Actual_201901010000-202001010000.csv']))\n",
        "df2020 = pd.read_csv(io.BytesIO(uploaded['Total Load - Day Ahead _ Actual_202001010000-202101010000.csv']))\n",
        "df2021 = pd.read_csv(io.BytesIO(uploaded['Total Load - Day Ahead _ Actual_202101010000-202201010000.csv']))\n",
        "\n",
        "# data.head()"
      ],
      "execution_count": 3,
      "outputs": []
    },
    {
      "cell_type": "code",
      "metadata": {
        "colab": {
          "base_uri": "https://localhost:8080/"
        },
        "id": "8ZbGD9ohI4o_",
        "outputId": "105d9950-afff-465e-85a9-09d13dbf63bd"
      },
      "source": [
        "df2018.shape"
      ],
      "execution_count": 4,
      "outputs": [
        {
          "output_type": "execute_result",
          "data": {
            "text/plain": [
              "(8760, 3)"
            ]
          },
          "metadata": {},
          "execution_count": 4
        }
      ]
    },
    {
      "cell_type": "code",
      "metadata": {
        "colab": {
          "base_uri": "https://localhost:8080/",
          "height": 419
        },
        "id": "RgChp9KtWf_Z",
        "outputId": "026f0fd8-cac4-4c99-8919-3e63b823e167"
      },
      "source": [
        "df2018\n"
      ],
      "execution_count": 5,
      "outputs": [
        {
          "output_type": "execute_result",
          "data": {
            "text/html": [
              "<div>\n",
              "<style scoped>\n",
              "    .dataframe tbody tr th:only-of-type {\n",
              "        vertical-align: middle;\n",
              "    }\n",
              "\n",
              "    .dataframe tbody tr th {\n",
              "        vertical-align: top;\n",
              "    }\n",
              "\n",
              "    .dataframe thead th {\n",
              "        text-align: right;\n",
              "    }\n",
              "</style>\n",
              "<table border=\"1\" class=\"dataframe\">\n",
              "  <thead>\n",
              "    <tr style=\"text-align: right;\">\n",
              "      <th></th>\n",
              "      <th>Time (CET)</th>\n",
              "      <th>Day-ahead Total Load Forecast [MW] - Spain (ES)</th>\n",
              "      <th>Actual Total Load [MW] - Spain (ES)</th>\n",
              "    </tr>\n",
              "  </thead>\n",
              "  <tbody>\n",
              "    <tr>\n",
              "      <th>0</th>\n",
              "      <td>01.01.2018 00:00 - 01.01.2018 01:00</td>\n",
              "      <td>23324</td>\n",
              "      <td>22779.0</td>\n",
              "    </tr>\n",
              "    <tr>\n",
              "      <th>1</th>\n",
              "      <td>01.01.2018 01:00 - 01.01.2018 02:00</td>\n",
              "      <td>22688</td>\n",
              "      <td>22009.0</td>\n",
              "    </tr>\n",
              "    <tr>\n",
              "      <th>2</th>\n",
              "      <td>01.01.2018 02:00 - 01.01.2018 03:00</td>\n",
              "      <td>21521</td>\n",
              "      <td>20589.0</td>\n",
              "    </tr>\n",
              "    <tr>\n",
              "      <th>3</th>\n",
              "      <td>01.01.2018 03:00 - 01.01.2018 04:00</td>\n",
              "      <td>20294</td>\n",
              "      <td>19547.0</td>\n",
              "    </tr>\n",
              "    <tr>\n",
              "      <th>4</th>\n",
              "      <td>01.01.2018 04:00 - 01.01.2018 05:00</td>\n",
              "      <td>19489</td>\n",
              "      <td>18871.0</td>\n",
              "    </tr>\n",
              "    <tr>\n",
              "      <th>...</th>\n",
              "      <td>...</td>\n",
              "      <td>...</td>\n",
              "      <td>...</td>\n",
              "    </tr>\n",
              "    <tr>\n",
              "      <th>8755</th>\n",
              "      <td>31.12.2018 19:00 - 31.12.2018 20:00</td>\n",
              "      <td>30619</td>\n",
              "      <td>30653.0</td>\n",
              "    </tr>\n",
              "    <tr>\n",
              "      <th>8756</th>\n",
              "      <td>31.12.2018 20:00 - 31.12.2018 21:00</td>\n",
              "      <td>29932</td>\n",
              "      <td>29735.0</td>\n",
              "    </tr>\n",
              "    <tr>\n",
              "      <th>8757</th>\n",
              "      <td>31.12.2018 21:00 - 31.12.2018 22:00</td>\n",
              "      <td>27903</td>\n",
              "      <td>28071.0</td>\n",
              "    </tr>\n",
              "    <tr>\n",
              "      <th>8758</th>\n",
              "      <td>31.12.2018 22:00 - 31.12.2018 23:00</td>\n",
              "      <td>25450</td>\n",
              "      <td>25801.0</td>\n",
              "    </tr>\n",
              "    <tr>\n",
              "      <th>8759</th>\n",
              "      <td>31.12.2018 23:00 - 01.01.2019 00:00</td>\n",
              "      <td>24424</td>\n",
              "      <td>24455.0</td>\n",
              "    </tr>\n",
              "  </tbody>\n",
              "</table>\n",
              "<p>8760 rows × 3 columns</p>\n",
              "</div>"
            ],
            "text/plain": [
              "                               Time (CET)  ...  Actual Total Load [MW] - Spain (ES)\n",
              "0     01.01.2018 00:00 - 01.01.2018 01:00  ...                              22779.0\n",
              "1     01.01.2018 01:00 - 01.01.2018 02:00  ...                              22009.0\n",
              "2     01.01.2018 02:00 - 01.01.2018 03:00  ...                              20589.0\n",
              "3     01.01.2018 03:00 - 01.01.2018 04:00  ...                              19547.0\n",
              "4     01.01.2018 04:00 - 01.01.2018 05:00  ...                              18871.0\n",
              "...                                   ...  ...                                  ...\n",
              "8755  31.12.2018 19:00 - 31.12.2018 20:00  ...                              30653.0\n",
              "8756  31.12.2018 20:00 - 31.12.2018 21:00  ...                              29735.0\n",
              "8757  31.12.2018 21:00 - 31.12.2018 22:00  ...                              28071.0\n",
              "8758  31.12.2018 22:00 - 31.12.2018 23:00  ...                              25801.0\n",
              "8759  31.12.2018 23:00 - 01.01.2019 00:00  ...                              24455.0\n",
              "\n",
              "[8760 rows x 3 columns]"
            ]
          },
          "metadata": {},
          "execution_count": 5
        }
      ]
    },
    {
      "cell_type": "markdown",
      "metadata": {
        "id": "FHZARexcEi2q"
      },
      "source": [
        "# Data Preparation\n"
      ]
    },
    {
      "cell_type": "code",
      "metadata": {
        "colab": {
          "base_uri": "https://localhost:8080/"
        },
        "id": "70-SEouxKI11",
        "outputId": "fd628d29-cd9c-48d4-99fe-e431789c87f8"
      },
      "source": [
        "# Check missing values and data size\n",
        "for i in [df2016,df2017,df2018,df2019,df2020,df2021]:\n",
        "    print(i.isnull().sum())\n",
        "    print('Data size:',i.shape)\n",
        "    print('-----------------')"
      ],
      "execution_count": 6,
      "outputs": [
        {
          "output_type": "stream",
          "name": "stdout",
          "text": [
            "Time (CET)                                         0\n",
            "Day-ahead Total Load Forecast [MW] - Spain (ES)    0\n",
            "Actual Total Load [MW] - Spain (ES)                5\n",
            "dtype: int64\n",
            "Data size: (8784, 3)\n",
            "-----------------\n",
            "Time (CET)                                         0\n",
            "Day-ahead Total Load Forecast [MW] - Spain (ES)    0\n",
            "Actual Total Load [MW] - Spain (ES)                2\n",
            "dtype: int64\n",
            "Data size: (8760, 3)\n",
            "-----------------\n",
            "Time (CET)                                         0\n",
            "Day-ahead Total Load Forecast [MW] - Spain (ES)    0\n",
            "Actual Total Load [MW] - Spain (ES)                2\n",
            "dtype: int64\n",
            "Data size: (8760, 3)\n",
            "-----------------\n",
            "Time (CET)                                         0\n",
            "Day-ahead Total Load Forecast [MW] - Spain (ES)    0\n",
            "Actual Total Load [MW] - Spain (ES)                0\n",
            "dtype: int64\n",
            "Data size: (8760, 3)\n",
            "-----------------\n",
            "Time (CET)                                         0\n",
            "Day-ahead Total Load Forecast [MW] - Spain (ES)    0\n",
            "Actual Total Load [MW] - Spain (ES)                0\n",
            "dtype: int64\n",
            "Data size: (8784, 3)\n",
            "-----------------\n",
            "Time (CET)                                         0\n",
            "Day-ahead Total Load Forecast [MW] - Spain (ES)    0\n",
            "Actual Total Load [MW] - Spain (ES)                0\n",
            "dtype: int64\n",
            "Data size: (8760, 3)\n",
            "-----------------\n"
          ]
        }
      ]
    },
    {
      "cell_type": "code",
      "metadata": {
        "colab": {
          "base_uri": "https://localhost:8080/"
        },
        "id": "rOPWJ5PVKM0b",
        "outputId": "9d40f772-90a8-448f-f128-5b0615f137e4"
      },
      "source": [
        "# Merges all datasets\n",
        "df2016_2020 = pd.concat([df2016,df2017,df2018,df2019,df2020,df2021],axis=0)\n",
        "df2016_2020 = df2016_2020.reset_index(drop=True)  \n",
        "df2016_2020.shape"
      ],
      "execution_count": 7,
      "outputs": [
        {
          "output_type": "execute_result",
          "data": {
            "text/plain": [
              "(52608, 3)"
            ]
          },
          "metadata": {},
          "execution_count": 7
        }
      ]
    },
    {
      "cell_type": "code",
      "metadata": {
        "colab": {
          "base_uri": "https://localhost:8080/",
          "height": 419
        },
        "id": "ryuNJHLfnUb_",
        "outputId": "7665ad83-1083-4862-a204-a4b0756de7a5"
      },
      "source": [
        "df2016_2020"
      ],
      "execution_count": 31,
      "outputs": [
        {
          "output_type": "execute_result",
          "data": {
            "text/html": [
              "<div>\n",
              "<style scoped>\n",
              "    .dataframe tbody tr th:only-of-type {\n",
              "        vertical-align: middle;\n",
              "    }\n",
              "\n",
              "    .dataframe tbody tr th {\n",
              "        vertical-align: top;\n",
              "    }\n",
              "\n",
              "    .dataframe thead th {\n",
              "        text-align: right;\n",
              "    }\n",
              "</style>\n",
              "<table border=\"1\" class=\"dataframe\">\n",
              "  <thead>\n",
              "    <tr style=\"text-align: right;\">\n",
              "      <th></th>\n",
              "      <th>Time (CET)</th>\n",
              "      <th>Day-ahead Total Load Forecast [MW] - Spain (ES)</th>\n",
              "      <th>Actual Total Load [MW] - Spain (ES)</th>\n",
              "    </tr>\n",
              "  </thead>\n",
              "  <tbody>\n",
              "    <tr>\n",
              "      <th>0</th>\n",
              "      <td>01.01.2016 00:00 - 01.01.2016 01:00</td>\n",
              "      <td>23273</td>\n",
              "      <td>22431</td>\n",
              "    </tr>\n",
              "    <tr>\n",
              "      <th>1</th>\n",
              "      <td>01.01.2016 01:00 - 01.01.2016 02:00</td>\n",
              "      <td>22495</td>\n",
              "      <td>21632</td>\n",
              "    </tr>\n",
              "    <tr>\n",
              "      <th>2</th>\n",
              "      <td>01.01.2016 02:00 - 01.01.2016 03:00</td>\n",
              "      <td>21272</td>\n",
              "      <td>20357</td>\n",
              "    </tr>\n",
              "    <tr>\n",
              "      <th>3</th>\n",
              "      <td>01.01.2016 03:00 - 01.01.2016 04:00</td>\n",
              "      <td>20022</td>\n",
              "      <td>19152</td>\n",
              "    </tr>\n",
              "    <tr>\n",
              "      <th>4</th>\n",
              "      <td>01.01.2016 04:00 - 01.01.2016 05:00</td>\n",
              "      <td>19148</td>\n",
              "      <td>18310</td>\n",
              "    </tr>\n",
              "    <tr>\n",
              "      <th>...</th>\n",
              "      <td>...</td>\n",
              "      <td>...</td>\n",
              "      <td>...</td>\n",
              "    </tr>\n",
              "    <tr>\n",
              "      <th>52603</th>\n",
              "      <td>31.12.2021 19:00 - 31.12.2021 20:00</td>\n",
              "      <td>-</td>\n",
              "      <td>-</td>\n",
              "    </tr>\n",
              "    <tr>\n",
              "      <th>52604</th>\n",
              "      <td>31.12.2021 20:00 - 31.12.2021 21:00</td>\n",
              "      <td>-</td>\n",
              "      <td>-</td>\n",
              "    </tr>\n",
              "    <tr>\n",
              "      <th>52605</th>\n",
              "      <td>31.12.2021 21:00 - 31.12.2021 22:00</td>\n",
              "      <td>-</td>\n",
              "      <td>-</td>\n",
              "    </tr>\n",
              "    <tr>\n",
              "      <th>52606</th>\n",
              "      <td>31.12.2021 22:00 - 31.12.2021 23:00</td>\n",
              "      <td>-</td>\n",
              "      <td>-</td>\n",
              "    </tr>\n",
              "    <tr>\n",
              "      <th>52607</th>\n",
              "      <td>31.12.2021 23:00 - 01.01.2022 00:00</td>\n",
              "      <td>-</td>\n",
              "      <td>-</td>\n",
              "    </tr>\n",
              "  </tbody>\n",
              "</table>\n",
              "<p>52608 rows × 3 columns</p>\n",
              "</div>"
            ],
            "text/plain": [
              "                                Time (CET)  ... Actual Total Load [MW] - Spain (ES)\n",
              "0      01.01.2016 00:00 - 01.01.2016 01:00  ...                               22431\n",
              "1      01.01.2016 01:00 - 01.01.2016 02:00  ...                               21632\n",
              "2      01.01.2016 02:00 - 01.01.2016 03:00  ...                               20357\n",
              "3      01.01.2016 03:00 - 01.01.2016 04:00  ...                               19152\n",
              "4      01.01.2016 04:00 - 01.01.2016 05:00  ...                               18310\n",
              "...                                    ...  ...                                 ...\n",
              "52603  31.12.2021 19:00 - 31.12.2021 20:00  ...                                   -\n",
              "52604  31.12.2021 20:00 - 31.12.2021 21:00  ...                                   -\n",
              "52605  31.12.2021 21:00 - 31.12.2021 22:00  ...                                   -\n",
              "52606  31.12.2021 22:00 - 31.12.2021 23:00  ...                                   -\n",
              "52607  31.12.2021 23:00 - 01.01.2022 00:00  ...                                   -\n",
              "\n",
              "[52608 rows x 3 columns]"
            ]
          },
          "metadata": {},
          "execution_count": 31
        }
      ]
    },
    {
      "cell_type": "code",
      "metadata": {
        "id": "0arIVqEznJZg"
      },
      "source": [
        "df2016_2020 = df2016_2020[:-1464]"
      ],
      "execution_count": 35,
      "outputs": []
    },
    {
      "cell_type": "code",
      "metadata": {
        "colab": {
          "base_uri": "https://localhost:8080/",
          "height": 419
        },
        "id": "btWnCKjGnZ6r",
        "outputId": "32dc067d-3391-4526-a4c3-d4398648cb22"
      },
      "source": [
        "df2016_2020"
      ],
      "execution_count": 36,
      "outputs": [
        {
          "output_type": "execute_result",
          "data": {
            "text/html": [
              "<div>\n",
              "<style scoped>\n",
              "    .dataframe tbody tr th:only-of-type {\n",
              "        vertical-align: middle;\n",
              "    }\n",
              "\n",
              "    .dataframe tbody tr th {\n",
              "        vertical-align: top;\n",
              "    }\n",
              "\n",
              "    .dataframe thead th {\n",
              "        text-align: right;\n",
              "    }\n",
              "</style>\n",
              "<table border=\"1\" class=\"dataframe\">\n",
              "  <thead>\n",
              "    <tr style=\"text-align: right;\">\n",
              "      <th></th>\n",
              "      <th>Time (CET)</th>\n",
              "      <th>Day-ahead Total Load Forecast [MW] - Spain (ES)</th>\n",
              "      <th>Actual Total Load [MW] - Spain (ES)</th>\n",
              "    </tr>\n",
              "  </thead>\n",
              "  <tbody>\n",
              "    <tr>\n",
              "      <th>0</th>\n",
              "      <td>01.01.2016 00:00 - 01.01.2016 01:00</td>\n",
              "      <td>23273</td>\n",
              "      <td>22431</td>\n",
              "    </tr>\n",
              "    <tr>\n",
              "      <th>1</th>\n",
              "      <td>01.01.2016 01:00 - 01.01.2016 02:00</td>\n",
              "      <td>22495</td>\n",
              "      <td>21632</td>\n",
              "    </tr>\n",
              "    <tr>\n",
              "      <th>2</th>\n",
              "      <td>01.01.2016 02:00 - 01.01.2016 03:00</td>\n",
              "      <td>21272</td>\n",
              "      <td>20357</td>\n",
              "    </tr>\n",
              "    <tr>\n",
              "      <th>3</th>\n",
              "      <td>01.01.2016 03:00 - 01.01.2016 04:00</td>\n",
              "      <td>20022</td>\n",
              "      <td>19152</td>\n",
              "    </tr>\n",
              "    <tr>\n",
              "      <th>4</th>\n",
              "      <td>01.01.2016 04:00 - 01.01.2016 05:00</td>\n",
              "      <td>19148</td>\n",
              "      <td>18310</td>\n",
              "    </tr>\n",
              "    <tr>\n",
              "      <th>...</th>\n",
              "      <td>...</td>\n",
              "      <td>...</td>\n",
              "      <td>...</td>\n",
              "    </tr>\n",
              "    <tr>\n",
              "      <th>51139</th>\n",
              "      <td>31.10.2021 19:00 - 31.10.2021 20:00</td>\n",
              "      <td>26163</td>\n",
              "      <td>25330</td>\n",
              "    </tr>\n",
              "    <tr>\n",
              "      <th>51140</th>\n",
              "      <td>31.10.2021 20:00 - 31.10.2021 21:00</td>\n",
              "      <td>26686</td>\n",
              "      <td>25562</td>\n",
              "    </tr>\n",
              "    <tr>\n",
              "      <th>51141</th>\n",
              "      <td>31.10.2021 21:00 - 31.10.2021 22:00</td>\n",
              "      <td>26098</td>\n",
              "      <td>25252</td>\n",
              "    </tr>\n",
              "    <tr>\n",
              "      <th>51142</th>\n",
              "      <td>31.10.2021 22:00 - 31.10.2021 23:00</td>\n",
              "      <td>24607</td>\n",
              "      <td>24066</td>\n",
              "    </tr>\n",
              "    <tr>\n",
              "      <th>51143</th>\n",
              "      <td>31.10.2021 23:00 - 01.11.2021 00:00</td>\n",
              "      <td>23071</td>\n",
              "      <td>22691</td>\n",
              "    </tr>\n",
              "  </tbody>\n",
              "</table>\n",
              "<p>51144 rows × 3 columns</p>\n",
              "</div>"
            ],
            "text/plain": [
              "                                Time (CET)  ... Actual Total Load [MW] - Spain (ES)\n",
              "0      01.01.2016 00:00 - 01.01.2016 01:00  ...                               22431\n",
              "1      01.01.2016 01:00 - 01.01.2016 02:00  ...                               21632\n",
              "2      01.01.2016 02:00 - 01.01.2016 03:00  ...                               20357\n",
              "3      01.01.2016 03:00 - 01.01.2016 04:00  ...                               19152\n",
              "4      01.01.2016 04:00 - 01.01.2016 05:00  ...                               18310\n",
              "...                                    ...  ...                                 ...\n",
              "51139  31.10.2021 19:00 - 31.10.2021 20:00  ...                               25330\n",
              "51140  31.10.2021 20:00 - 31.10.2021 21:00  ...                               25562\n",
              "51141  31.10.2021 21:00 - 31.10.2021 22:00  ...                               25252\n",
              "51142  31.10.2021 22:00 - 31.10.2021 23:00  ...                               24066\n",
              "51143  31.10.2021 23:00 - 01.11.2021 00:00  ...                               22691\n",
              "\n",
              "[51144 rows x 3 columns]"
            ]
          },
          "metadata": {},
          "execution_count": 36
        }
      ]
    },
    {
      "cell_type": "code",
      "metadata": {
        "colab": {
          "base_uri": "https://localhost:8080/",
          "height": 204
        },
        "id": "c43uqniBLsvx",
        "outputId": "d12c3da5-56f1-4d57-ad4e-8b14b9f5cade"
      },
      "source": [
        "# Creates Hour, Day, Month, Year and Date variables\n",
        "temp_split = df2016_2020['Time (CET)'].str.split(\" \", expand = True)\n",
        "\n",
        "day_month_year = temp_split[0].str.split(\".\", expand = True)\n",
        "day_month_year.rename(columns={0:'Day',1:'Month',2:'Year'}, inplace=True)\n",
        "\n",
        "hour = temp_split[1].str.split(\":\", expand = True)\n",
        "hour.rename(columns={0:'Hour'}, inplace=True)\n",
        "\n",
        "timeframe = pd.concat([hour['Hour'],day_month_year],axis=1)\n",
        "timeframe['Date'] = timeframe['Year']+'-'+timeframe['Month']+'-'+timeframe['Day']\n",
        "timeframe = timeframe.reset_index(drop=True)\n",
        "timeframe.head()"
      ],
      "execution_count": 37,
      "outputs": [
        {
          "output_type": "execute_result",
          "data": {
            "text/html": [
              "<div>\n",
              "<style scoped>\n",
              "    .dataframe tbody tr th:only-of-type {\n",
              "        vertical-align: middle;\n",
              "    }\n",
              "\n",
              "    .dataframe tbody tr th {\n",
              "        vertical-align: top;\n",
              "    }\n",
              "\n",
              "    .dataframe thead th {\n",
              "        text-align: right;\n",
              "    }\n",
              "</style>\n",
              "<table border=\"1\" class=\"dataframe\">\n",
              "  <thead>\n",
              "    <tr style=\"text-align: right;\">\n",
              "      <th></th>\n",
              "      <th>Hour</th>\n",
              "      <th>Day</th>\n",
              "      <th>Month</th>\n",
              "      <th>Year</th>\n",
              "      <th>Date</th>\n",
              "    </tr>\n",
              "  </thead>\n",
              "  <tbody>\n",
              "    <tr>\n",
              "      <th>0</th>\n",
              "      <td>00</td>\n",
              "      <td>01</td>\n",
              "      <td>01</td>\n",
              "      <td>2016</td>\n",
              "      <td>2016-01-01</td>\n",
              "    </tr>\n",
              "    <tr>\n",
              "      <th>1</th>\n",
              "      <td>01</td>\n",
              "      <td>01</td>\n",
              "      <td>01</td>\n",
              "      <td>2016</td>\n",
              "      <td>2016-01-01</td>\n",
              "    </tr>\n",
              "    <tr>\n",
              "      <th>2</th>\n",
              "      <td>02</td>\n",
              "      <td>01</td>\n",
              "      <td>01</td>\n",
              "      <td>2016</td>\n",
              "      <td>2016-01-01</td>\n",
              "    </tr>\n",
              "    <tr>\n",
              "      <th>3</th>\n",
              "      <td>03</td>\n",
              "      <td>01</td>\n",
              "      <td>01</td>\n",
              "      <td>2016</td>\n",
              "      <td>2016-01-01</td>\n",
              "    </tr>\n",
              "    <tr>\n",
              "      <th>4</th>\n",
              "      <td>04</td>\n",
              "      <td>01</td>\n",
              "      <td>01</td>\n",
              "      <td>2016</td>\n",
              "      <td>2016-01-01</td>\n",
              "    </tr>\n",
              "  </tbody>\n",
              "</table>\n",
              "</div>"
            ],
            "text/plain": [
              "  Hour Day Month  Year        Date\n",
              "0   00  01    01  2016  2016-01-01\n",
              "1   01  01    01  2016  2016-01-01\n",
              "2   02  01    01  2016  2016-01-01\n",
              "3   03  01    01  2016  2016-01-01\n",
              "4   04  01    01  2016  2016-01-01"
            ]
          },
          "metadata": {},
          "execution_count": 37
        }
      ]
    },
    {
      "cell_type": "code",
      "metadata": {
        "colab": {
          "base_uri": "https://localhost:8080/",
          "height": 204
        },
        "id": "A_rFnIEKL6No",
        "outputId": "7a9a93e6-de59-493e-a2ed-3e2e74ac7a54"
      },
      "source": [
        "# Creates time data in Madrid\n",
        "date = pd.DataFrame(pd.date_range(start='01/01/2016 00:00:00', end='10/31/2021 23:00:00',\n",
        "                                  freq='H', tz='Europe/Madrid'))\n",
        "date = date.astype(str)\n",
        "date = date[0].str.split(' ', expand = True)\n",
        "date.head()"
      ],
      "execution_count": 38,
      "outputs": [
        {
          "output_type": "execute_result",
          "data": {
            "text/html": [
              "<div>\n",
              "<style scoped>\n",
              "    .dataframe tbody tr th:only-of-type {\n",
              "        vertical-align: middle;\n",
              "    }\n",
              "\n",
              "    .dataframe tbody tr th {\n",
              "        vertical-align: top;\n",
              "    }\n",
              "\n",
              "    .dataframe thead th {\n",
              "        text-align: right;\n",
              "    }\n",
              "</style>\n",
              "<table border=\"1\" class=\"dataframe\">\n",
              "  <thead>\n",
              "    <tr style=\"text-align: right;\">\n",
              "      <th></th>\n",
              "      <th>0</th>\n",
              "      <th>1</th>\n",
              "    </tr>\n",
              "  </thead>\n",
              "  <tbody>\n",
              "    <tr>\n",
              "      <th>0</th>\n",
              "      <td>2016-01-01</td>\n",
              "      <td>00:00:00+01:00</td>\n",
              "    </tr>\n",
              "    <tr>\n",
              "      <th>1</th>\n",
              "      <td>2016-01-01</td>\n",
              "      <td>01:00:00+01:00</td>\n",
              "    </tr>\n",
              "    <tr>\n",
              "      <th>2</th>\n",
              "      <td>2016-01-01</td>\n",
              "      <td>02:00:00+01:00</td>\n",
              "    </tr>\n",
              "    <tr>\n",
              "      <th>3</th>\n",
              "      <td>2016-01-01</td>\n",
              "      <td>03:00:00+01:00</td>\n",
              "    </tr>\n",
              "    <tr>\n",
              "      <th>4</th>\n",
              "      <td>2016-01-01</td>\n",
              "      <td>04:00:00+01:00</td>\n",
              "    </tr>\n",
              "  </tbody>\n",
              "</table>\n",
              "</div>"
            ],
            "text/plain": [
              "            0               1\n",
              "0  2016-01-01  00:00:00+01:00\n",
              "1  2016-01-01  01:00:00+01:00\n",
              "2  2016-01-01  02:00:00+01:00\n",
              "3  2016-01-01  03:00:00+01:00\n",
              "4  2016-01-01  04:00:00+01:00"
            ]
          },
          "metadata": {},
          "execution_count": 38
        }
      ]
    },
    {
      "cell_type": "code",
      "metadata": {
        "colab": {
          "base_uri": "https://localhost:8080/",
          "height": 204
        },
        "id": "Imk-sOy5MAdZ",
        "outputId": "75bf4c0f-62b8-4140-9cbc-d283a0fecf6c"
      },
      "source": [
        "# Gets Day of week variable\n",
        "# 0: Monday, 1: Tueday ... 6: Sunday\n",
        "day_of_week = pd.date_range(start='01/01/2016 00:00:00', end='10/31/2021 23:00:00',\n",
        "                            freq='H', tz='Europe/Madrid').to_series().dt.dayofweek\n",
        "day_of_week = day_of_week.values.tolist()\n",
        "day_of_week = pd.to_numeric(day_of_week, errors='coerce')\n",
        "day_of_week = pd.DataFrame(day_of_week, columns = [\"Day of week\"])\n",
        "day_of_week.head()"
      ],
      "execution_count": 39,
      "outputs": [
        {
          "output_type": "execute_result",
          "data": {
            "text/html": [
              "<div>\n",
              "<style scoped>\n",
              "    .dataframe tbody tr th:only-of-type {\n",
              "        vertical-align: middle;\n",
              "    }\n",
              "\n",
              "    .dataframe tbody tr th {\n",
              "        vertical-align: top;\n",
              "    }\n",
              "\n",
              "    .dataframe thead th {\n",
              "        text-align: right;\n",
              "    }\n",
              "</style>\n",
              "<table border=\"1\" class=\"dataframe\">\n",
              "  <thead>\n",
              "    <tr style=\"text-align: right;\">\n",
              "      <th></th>\n",
              "      <th>Day of week</th>\n",
              "    </tr>\n",
              "  </thead>\n",
              "  <tbody>\n",
              "    <tr>\n",
              "      <th>0</th>\n",
              "      <td>4</td>\n",
              "    </tr>\n",
              "    <tr>\n",
              "      <th>1</th>\n",
              "      <td>4</td>\n",
              "    </tr>\n",
              "    <tr>\n",
              "      <th>2</th>\n",
              "      <td>4</td>\n",
              "    </tr>\n",
              "    <tr>\n",
              "      <th>3</th>\n",
              "      <td>4</td>\n",
              "    </tr>\n",
              "    <tr>\n",
              "      <th>4</th>\n",
              "      <td>4</td>\n",
              "    </tr>\n",
              "  </tbody>\n",
              "</table>\n",
              "</div>"
            ],
            "text/plain": [
              "   Day of week\n",
              "0            4\n",
              "1            4\n",
              "2            4\n",
              "3            4\n",
              "4            4"
            ]
          },
          "metadata": {},
          "execution_count": 39
        }
      ]
    },
    {
      "cell_type": "code",
      "metadata": {
        "colab": {
          "base_uri": "https://localhost:8080/",
          "height": 204
        },
        "id": "LyHpW9ATMiqn",
        "outputId": "a1a6fc9f-3a13-47ed-ea53-daeac0526c52"
      },
      "source": [
        "date = pd.concat([date[0],day_of_week],axis=1)\n",
        "date.rename(columns={0:'Date'}, inplace=True)\n",
        "date.head()"
      ],
      "execution_count": 40,
      "outputs": [
        {
          "output_type": "execute_result",
          "data": {
            "text/html": [
              "<div>\n",
              "<style scoped>\n",
              "    .dataframe tbody tr th:only-of-type {\n",
              "        vertical-align: middle;\n",
              "    }\n",
              "\n",
              "    .dataframe tbody tr th {\n",
              "        vertical-align: top;\n",
              "    }\n",
              "\n",
              "    .dataframe thead th {\n",
              "        text-align: right;\n",
              "    }\n",
              "</style>\n",
              "<table border=\"1\" class=\"dataframe\">\n",
              "  <thead>\n",
              "    <tr style=\"text-align: right;\">\n",
              "      <th></th>\n",
              "      <th>Date</th>\n",
              "      <th>Day of week</th>\n",
              "    </tr>\n",
              "  </thead>\n",
              "  <tbody>\n",
              "    <tr>\n",
              "      <th>0</th>\n",
              "      <td>2016-01-01</td>\n",
              "      <td>4</td>\n",
              "    </tr>\n",
              "    <tr>\n",
              "      <th>1</th>\n",
              "      <td>2016-01-01</td>\n",
              "      <td>4</td>\n",
              "    </tr>\n",
              "    <tr>\n",
              "      <th>2</th>\n",
              "      <td>2016-01-01</td>\n",
              "      <td>4</td>\n",
              "    </tr>\n",
              "    <tr>\n",
              "      <th>3</th>\n",
              "      <td>2016-01-01</td>\n",
              "      <td>4</td>\n",
              "    </tr>\n",
              "    <tr>\n",
              "      <th>4</th>\n",
              "      <td>2016-01-01</td>\n",
              "      <td>4</td>\n",
              "    </tr>\n",
              "  </tbody>\n",
              "</table>\n",
              "</div>"
            ],
            "text/plain": [
              "         Date  Day of week\n",
              "0  2016-01-01            4\n",
              "1  2016-01-01            4\n",
              "2  2016-01-01            4\n",
              "3  2016-01-01            4\n",
              "4  2016-01-01            4"
            ]
          },
          "metadata": {},
          "execution_count": 40
        }
      ]
    },
    {
      "cell_type": "code",
      "metadata": {
        "colab": {
          "base_uri": "https://localhost:8080/",
          "height": 204
        },
        "id": "p0Hd92ZTMyaW",
        "outputId": "4c1e9408-838b-43e7-c103-526f8b75aec0"
      },
      "source": [
        "# Gets public holidaies in Spain\n",
        "import holidays\n",
        "def get_holidays(year):\n",
        "    holidays_date = []\n",
        "    for date in sorted(holidays.EE(years=year).items()):\n",
        "        holidays_date.append(str(date[0]))\n",
        "    return holidays_date\n",
        "\n",
        "year = [2016,2017,2018,2019,2020,2021]\n",
        "holidays_list = get_holidays(year)\n",
        "holidays_list = '|'.join(holidays_list)\n",
        "holidays = date['Date'].str.contains(holidays_list)\n",
        "holidays *= 1 # True = 1, False = 0\n",
        "holidays=holidays.rename(\"Public_holidays\")\n",
        "df_date = pd.concat([date,holidays],axis=1)\n",
        "df_date.head()"
      ],
      "execution_count": 41,
      "outputs": [
        {
          "output_type": "execute_result",
          "data": {
            "text/html": [
              "<div>\n",
              "<style scoped>\n",
              "    .dataframe tbody tr th:only-of-type {\n",
              "        vertical-align: middle;\n",
              "    }\n",
              "\n",
              "    .dataframe tbody tr th {\n",
              "        vertical-align: top;\n",
              "    }\n",
              "\n",
              "    .dataframe thead th {\n",
              "        text-align: right;\n",
              "    }\n",
              "</style>\n",
              "<table border=\"1\" class=\"dataframe\">\n",
              "  <thead>\n",
              "    <tr style=\"text-align: right;\">\n",
              "      <th></th>\n",
              "      <th>Date</th>\n",
              "      <th>Day of week</th>\n",
              "      <th>Public_holidays</th>\n",
              "    </tr>\n",
              "  </thead>\n",
              "  <tbody>\n",
              "    <tr>\n",
              "      <th>0</th>\n",
              "      <td>2016-01-01</td>\n",
              "      <td>4</td>\n",
              "      <td>1</td>\n",
              "    </tr>\n",
              "    <tr>\n",
              "      <th>1</th>\n",
              "      <td>2016-01-01</td>\n",
              "      <td>4</td>\n",
              "      <td>1</td>\n",
              "    </tr>\n",
              "    <tr>\n",
              "      <th>2</th>\n",
              "      <td>2016-01-01</td>\n",
              "      <td>4</td>\n",
              "      <td>1</td>\n",
              "    </tr>\n",
              "    <tr>\n",
              "      <th>3</th>\n",
              "      <td>2016-01-01</td>\n",
              "      <td>4</td>\n",
              "      <td>1</td>\n",
              "    </tr>\n",
              "    <tr>\n",
              "      <th>4</th>\n",
              "      <td>2016-01-01</td>\n",
              "      <td>4</td>\n",
              "      <td>1</td>\n",
              "    </tr>\n",
              "  </tbody>\n",
              "</table>\n",
              "</div>"
            ],
            "text/plain": [
              "         Date  Day of week  Public_holidays\n",
              "0  2016-01-01            4                1\n",
              "1  2016-01-01            4                1\n",
              "2  2016-01-01            4                1\n",
              "3  2016-01-01            4                1\n",
              "4  2016-01-01            4                1"
            ]
          },
          "metadata": {},
          "execution_count": 41
        }
      ]
    },
    {
      "cell_type": "code",
      "metadata": {
        "colab": {
          "base_uri": "https://localhost:8080/",
          "height": 419
        },
        "id": "Rs1vuNonXaph",
        "outputId": "7f149dad-2080-4307-ce2b-8501de74e206"
      },
      "source": [
        "df_date"
      ],
      "execution_count": 42,
      "outputs": [
        {
          "output_type": "execute_result",
          "data": {
            "text/html": [
              "<div>\n",
              "<style scoped>\n",
              "    .dataframe tbody tr th:only-of-type {\n",
              "        vertical-align: middle;\n",
              "    }\n",
              "\n",
              "    .dataframe tbody tr th {\n",
              "        vertical-align: top;\n",
              "    }\n",
              "\n",
              "    .dataframe thead th {\n",
              "        text-align: right;\n",
              "    }\n",
              "</style>\n",
              "<table border=\"1\" class=\"dataframe\">\n",
              "  <thead>\n",
              "    <tr style=\"text-align: right;\">\n",
              "      <th></th>\n",
              "      <th>Date</th>\n",
              "      <th>Day of week</th>\n",
              "      <th>Public_holidays</th>\n",
              "    </tr>\n",
              "  </thead>\n",
              "  <tbody>\n",
              "    <tr>\n",
              "      <th>0</th>\n",
              "      <td>2016-01-01</td>\n",
              "      <td>4</td>\n",
              "      <td>1</td>\n",
              "    </tr>\n",
              "    <tr>\n",
              "      <th>1</th>\n",
              "      <td>2016-01-01</td>\n",
              "      <td>4</td>\n",
              "      <td>1</td>\n",
              "    </tr>\n",
              "    <tr>\n",
              "      <th>2</th>\n",
              "      <td>2016-01-01</td>\n",
              "      <td>4</td>\n",
              "      <td>1</td>\n",
              "    </tr>\n",
              "    <tr>\n",
              "      <th>3</th>\n",
              "      <td>2016-01-01</td>\n",
              "      <td>4</td>\n",
              "      <td>1</td>\n",
              "    </tr>\n",
              "    <tr>\n",
              "      <th>4</th>\n",
              "      <td>2016-01-01</td>\n",
              "      <td>4</td>\n",
              "      <td>1</td>\n",
              "    </tr>\n",
              "    <tr>\n",
              "      <th>...</th>\n",
              "      <td>...</td>\n",
              "      <td>...</td>\n",
              "      <td>...</td>\n",
              "    </tr>\n",
              "    <tr>\n",
              "      <th>51139</th>\n",
              "      <td>2021-10-31</td>\n",
              "      <td>6</td>\n",
              "      <td>0</td>\n",
              "    </tr>\n",
              "    <tr>\n",
              "      <th>51140</th>\n",
              "      <td>2021-10-31</td>\n",
              "      <td>6</td>\n",
              "      <td>0</td>\n",
              "    </tr>\n",
              "    <tr>\n",
              "      <th>51141</th>\n",
              "      <td>2021-10-31</td>\n",
              "      <td>6</td>\n",
              "      <td>0</td>\n",
              "    </tr>\n",
              "    <tr>\n",
              "      <th>51142</th>\n",
              "      <td>2021-10-31</td>\n",
              "      <td>6</td>\n",
              "      <td>0</td>\n",
              "    </tr>\n",
              "    <tr>\n",
              "      <th>51143</th>\n",
              "      <td>2021-10-31</td>\n",
              "      <td>6</td>\n",
              "      <td>0</td>\n",
              "    </tr>\n",
              "  </tbody>\n",
              "</table>\n",
              "<p>51144 rows × 3 columns</p>\n",
              "</div>"
            ],
            "text/plain": [
              "             Date  Day of week  Public_holidays\n",
              "0      2016-01-01            4                1\n",
              "1      2016-01-01            4                1\n",
              "2      2016-01-01            4                1\n",
              "3      2016-01-01            4                1\n",
              "4      2016-01-01            4                1\n",
              "...           ...          ...              ...\n",
              "51139  2021-10-31            6                0\n",
              "51140  2021-10-31            6                0\n",
              "51141  2021-10-31            6                0\n",
              "51142  2021-10-31            6                0\n",
              "51143  2021-10-31            6                0\n",
              "\n",
              "[51144 rows x 3 columns]"
            ]
          },
          "metadata": {},
          "execution_count": 42
        }
      ]
    },
    {
      "cell_type": "code",
      "metadata": {
        "colab": {
          "base_uri": "https://localhost:8080/",
          "height": 204
        },
        "id": "je7wEG_ZM4pq",
        "outputId": "fd1ef8e8-530a-44e2-b712-2c6aeccccb0f"
      },
      "source": [
        "final_date = pd.concat([timeframe,df_date],axis=1)\n",
        "final_date.head()"
      ],
      "execution_count": 43,
      "outputs": [
        {
          "output_type": "execute_result",
          "data": {
            "text/html": [
              "<div>\n",
              "<style scoped>\n",
              "    .dataframe tbody tr th:only-of-type {\n",
              "        vertical-align: middle;\n",
              "    }\n",
              "\n",
              "    .dataframe tbody tr th {\n",
              "        vertical-align: top;\n",
              "    }\n",
              "\n",
              "    .dataframe thead th {\n",
              "        text-align: right;\n",
              "    }\n",
              "</style>\n",
              "<table border=\"1\" class=\"dataframe\">\n",
              "  <thead>\n",
              "    <tr style=\"text-align: right;\">\n",
              "      <th></th>\n",
              "      <th>Hour</th>\n",
              "      <th>Day</th>\n",
              "      <th>Month</th>\n",
              "      <th>Year</th>\n",
              "      <th>Date</th>\n",
              "      <th>Date</th>\n",
              "      <th>Day of week</th>\n",
              "      <th>Public_holidays</th>\n",
              "    </tr>\n",
              "  </thead>\n",
              "  <tbody>\n",
              "    <tr>\n",
              "      <th>0</th>\n",
              "      <td>00</td>\n",
              "      <td>01</td>\n",
              "      <td>01</td>\n",
              "      <td>2016</td>\n",
              "      <td>2016-01-01</td>\n",
              "      <td>2016-01-01</td>\n",
              "      <td>4</td>\n",
              "      <td>1</td>\n",
              "    </tr>\n",
              "    <tr>\n",
              "      <th>1</th>\n",
              "      <td>01</td>\n",
              "      <td>01</td>\n",
              "      <td>01</td>\n",
              "      <td>2016</td>\n",
              "      <td>2016-01-01</td>\n",
              "      <td>2016-01-01</td>\n",
              "      <td>4</td>\n",
              "      <td>1</td>\n",
              "    </tr>\n",
              "    <tr>\n",
              "      <th>2</th>\n",
              "      <td>02</td>\n",
              "      <td>01</td>\n",
              "      <td>01</td>\n",
              "      <td>2016</td>\n",
              "      <td>2016-01-01</td>\n",
              "      <td>2016-01-01</td>\n",
              "      <td>4</td>\n",
              "      <td>1</td>\n",
              "    </tr>\n",
              "    <tr>\n",
              "      <th>3</th>\n",
              "      <td>03</td>\n",
              "      <td>01</td>\n",
              "      <td>01</td>\n",
              "      <td>2016</td>\n",
              "      <td>2016-01-01</td>\n",
              "      <td>2016-01-01</td>\n",
              "      <td>4</td>\n",
              "      <td>1</td>\n",
              "    </tr>\n",
              "    <tr>\n",
              "      <th>4</th>\n",
              "      <td>04</td>\n",
              "      <td>01</td>\n",
              "      <td>01</td>\n",
              "      <td>2016</td>\n",
              "      <td>2016-01-01</td>\n",
              "      <td>2016-01-01</td>\n",
              "      <td>4</td>\n",
              "      <td>1</td>\n",
              "    </tr>\n",
              "  </tbody>\n",
              "</table>\n",
              "</div>"
            ],
            "text/plain": [
              "  Hour Day Month  Year        Date        Date  Day of week  Public_holidays\n",
              "0   00  01    01  2016  2016-01-01  2016-01-01            4                1\n",
              "1   01  01    01  2016  2016-01-01  2016-01-01            4                1\n",
              "2   02  01    01  2016  2016-01-01  2016-01-01            4                1\n",
              "3   03  01    01  2016  2016-01-01  2016-01-01            4                1\n",
              "4   04  01    01  2016  2016-01-01  2016-01-01            4                1"
            ]
          },
          "metadata": {},
          "execution_count": 43
        }
      ]
    },
    {
      "cell_type": "code",
      "metadata": {
        "colab": {
          "base_uri": "https://localhost:8080/",
          "height": 204
        },
        "id": "n6Ma34W-VXiI",
        "outputId": "e21eb756-b2fc-4369-f84e-32916343ed68"
      },
      "source": [
        "final_date.tail()"
      ],
      "execution_count": 44,
      "outputs": [
        {
          "output_type": "execute_result",
          "data": {
            "text/html": [
              "<div>\n",
              "<style scoped>\n",
              "    .dataframe tbody tr th:only-of-type {\n",
              "        vertical-align: middle;\n",
              "    }\n",
              "\n",
              "    .dataframe tbody tr th {\n",
              "        vertical-align: top;\n",
              "    }\n",
              "\n",
              "    .dataframe thead th {\n",
              "        text-align: right;\n",
              "    }\n",
              "</style>\n",
              "<table border=\"1\" class=\"dataframe\">\n",
              "  <thead>\n",
              "    <tr style=\"text-align: right;\">\n",
              "      <th></th>\n",
              "      <th>Hour</th>\n",
              "      <th>Day</th>\n",
              "      <th>Month</th>\n",
              "      <th>Year</th>\n",
              "      <th>Date</th>\n",
              "      <th>Date</th>\n",
              "      <th>Day of week</th>\n",
              "      <th>Public_holidays</th>\n",
              "    </tr>\n",
              "  </thead>\n",
              "  <tbody>\n",
              "    <tr>\n",
              "      <th>51139</th>\n",
              "      <td>19</td>\n",
              "      <td>31</td>\n",
              "      <td>10</td>\n",
              "      <td>2021</td>\n",
              "      <td>2021-10-31</td>\n",
              "      <td>2021-10-31</td>\n",
              "      <td>6</td>\n",
              "      <td>0</td>\n",
              "    </tr>\n",
              "    <tr>\n",
              "      <th>51140</th>\n",
              "      <td>20</td>\n",
              "      <td>31</td>\n",
              "      <td>10</td>\n",
              "      <td>2021</td>\n",
              "      <td>2021-10-31</td>\n",
              "      <td>2021-10-31</td>\n",
              "      <td>6</td>\n",
              "      <td>0</td>\n",
              "    </tr>\n",
              "    <tr>\n",
              "      <th>51141</th>\n",
              "      <td>21</td>\n",
              "      <td>31</td>\n",
              "      <td>10</td>\n",
              "      <td>2021</td>\n",
              "      <td>2021-10-31</td>\n",
              "      <td>2021-10-31</td>\n",
              "      <td>6</td>\n",
              "      <td>0</td>\n",
              "    </tr>\n",
              "    <tr>\n",
              "      <th>51142</th>\n",
              "      <td>22</td>\n",
              "      <td>31</td>\n",
              "      <td>10</td>\n",
              "      <td>2021</td>\n",
              "      <td>2021-10-31</td>\n",
              "      <td>2021-10-31</td>\n",
              "      <td>6</td>\n",
              "      <td>0</td>\n",
              "    </tr>\n",
              "    <tr>\n",
              "      <th>51143</th>\n",
              "      <td>23</td>\n",
              "      <td>31</td>\n",
              "      <td>10</td>\n",
              "      <td>2021</td>\n",
              "      <td>2021-10-31</td>\n",
              "      <td>2021-10-31</td>\n",
              "      <td>6</td>\n",
              "      <td>0</td>\n",
              "    </tr>\n",
              "  </tbody>\n",
              "</table>\n",
              "</div>"
            ],
            "text/plain": [
              "      Hour Day Month  ...        Date Day of week Public_holidays\n",
              "51139   19  31    10  ...  2021-10-31           6               0\n",
              "51140   20  31    10  ...  2021-10-31           6               0\n",
              "51141   21  31    10  ...  2021-10-31           6               0\n",
              "51142   22  31    10  ...  2021-10-31           6               0\n",
              "51143   23  31    10  ...  2021-10-31           6               0\n",
              "\n",
              "[5 rows x 8 columns]"
            ]
          },
          "metadata": {},
          "execution_count": 44
        }
      ]
    },
    {
      "cell_type": "code",
      "metadata": {
        "colab": {
          "base_uri": "https://localhost:8080/",
          "height": 204
        },
        "id": "Nhd5rYGtM7al",
        "outputId": "3253381b-8040-4841-f3a0-63b29c08b2ed"
      },
      "source": [
        "final_df = pd.concat([final_date[['Hour','Day','Day of week','Public_holidays','Month','Year']],\n",
        "                      df2016_2020['Actual Total Load [MW] - Spain (ES)']],axis=1)\n",
        "\n",
        "final_df.head()"
      ],
      "execution_count": 45,
      "outputs": [
        {
          "output_type": "execute_result",
          "data": {
            "text/html": [
              "<div>\n",
              "<style scoped>\n",
              "    .dataframe tbody tr th:only-of-type {\n",
              "        vertical-align: middle;\n",
              "    }\n",
              "\n",
              "    .dataframe tbody tr th {\n",
              "        vertical-align: top;\n",
              "    }\n",
              "\n",
              "    .dataframe thead th {\n",
              "        text-align: right;\n",
              "    }\n",
              "</style>\n",
              "<table border=\"1\" class=\"dataframe\">\n",
              "  <thead>\n",
              "    <tr style=\"text-align: right;\">\n",
              "      <th></th>\n",
              "      <th>Hour</th>\n",
              "      <th>Day</th>\n",
              "      <th>Day of week</th>\n",
              "      <th>Public_holidays</th>\n",
              "      <th>Month</th>\n",
              "      <th>Year</th>\n",
              "      <th>Actual Total Load [MW] - Spain (ES)</th>\n",
              "    </tr>\n",
              "  </thead>\n",
              "  <tbody>\n",
              "    <tr>\n",
              "      <th>0</th>\n",
              "      <td>00</td>\n",
              "      <td>01</td>\n",
              "      <td>4</td>\n",
              "      <td>1</td>\n",
              "      <td>01</td>\n",
              "      <td>2016</td>\n",
              "      <td>22431</td>\n",
              "    </tr>\n",
              "    <tr>\n",
              "      <th>1</th>\n",
              "      <td>01</td>\n",
              "      <td>01</td>\n",
              "      <td>4</td>\n",
              "      <td>1</td>\n",
              "      <td>01</td>\n",
              "      <td>2016</td>\n",
              "      <td>21632</td>\n",
              "    </tr>\n",
              "    <tr>\n",
              "      <th>2</th>\n",
              "      <td>02</td>\n",
              "      <td>01</td>\n",
              "      <td>4</td>\n",
              "      <td>1</td>\n",
              "      <td>01</td>\n",
              "      <td>2016</td>\n",
              "      <td>20357</td>\n",
              "    </tr>\n",
              "    <tr>\n",
              "      <th>3</th>\n",
              "      <td>03</td>\n",
              "      <td>01</td>\n",
              "      <td>4</td>\n",
              "      <td>1</td>\n",
              "      <td>01</td>\n",
              "      <td>2016</td>\n",
              "      <td>19152</td>\n",
              "    </tr>\n",
              "    <tr>\n",
              "      <th>4</th>\n",
              "      <td>04</td>\n",
              "      <td>01</td>\n",
              "      <td>4</td>\n",
              "      <td>1</td>\n",
              "      <td>01</td>\n",
              "      <td>2016</td>\n",
              "      <td>18310</td>\n",
              "    </tr>\n",
              "  </tbody>\n",
              "</table>\n",
              "</div>"
            ],
            "text/plain": [
              "  Hour Day  Day of week  ...  Month  Year Actual Total Load [MW] - Spain (ES)\n",
              "0   00  01            4  ...     01  2016                               22431\n",
              "1   01  01            4  ...     01  2016                               21632\n",
              "2   02  01            4  ...     01  2016                               20357\n",
              "3   03  01            4  ...     01  2016                               19152\n",
              "4   04  01            4  ...     01  2016                               18310\n",
              "\n",
              "[5 rows x 7 columns]"
            ]
          },
          "metadata": {},
          "execution_count": 45
        }
      ]
    },
    {
      "cell_type": "code",
      "metadata": {
        "colab": {
          "base_uri": "https://localhost:8080/",
          "height": 204
        },
        "id": "WkVYj4erNbFc",
        "outputId": "c1ae04ed-e346-4e0b-d6be-6f5dd94527fb"
      },
      "source": [
        "final_df.tail()"
      ],
      "execution_count": 46,
      "outputs": [
        {
          "output_type": "execute_result",
          "data": {
            "text/html": [
              "<div>\n",
              "<style scoped>\n",
              "    .dataframe tbody tr th:only-of-type {\n",
              "        vertical-align: middle;\n",
              "    }\n",
              "\n",
              "    .dataframe tbody tr th {\n",
              "        vertical-align: top;\n",
              "    }\n",
              "\n",
              "    .dataframe thead th {\n",
              "        text-align: right;\n",
              "    }\n",
              "</style>\n",
              "<table border=\"1\" class=\"dataframe\">\n",
              "  <thead>\n",
              "    <tr style=\"text-align: right;\">\n",
              "      <th></th>\n",
              "      <th>Hour</th>\n",
              "      <th>Day</th>\n",
              "      <th>Day of week</th>\n",
              "      <th>Public_holidays</th>\n",
              "      <th>Month</th>\n",
              "      <th>Year</th>\n",
              "      <th>Actual Total Load [MW] - Spain (ES)</th>\n",
              "    </tr>\n",
              "  </thead>\n",
              "  <tbody>\n",
              "    <tr>\n",
              "      <th>51139</th>\n",
              "      <td>19</td>\n",
              "      <td>31</td>\n",
              "      <td>6</td>\n",
              "      <td>0</td>\n",
              "      <td>10</td>\n",
              "      <td>2021</td>\n",
              "      <td>25330</td>\n",
              "    </tr>\n",
              "    <tr>\n",
              "      <th>51140</th>\n",
              "      <td>20</td>\n",
              "      <td>31</td>\n",
              "      <td>6</td>\n",
              "      <td>0</td>\n",
              "      <td>10</td>\n",
              "      <td>2021</td>\n",
              "      <td>25562</td>\n",
              "    </tr>\n",
              "    <tr>\n",
              "      <th>51141</th>\n",
              "      <td>21</td>\n",
              "      <td>31</td>\n",
              "      <td>6</td>\n",
              "      <td>0</td>\n",
              "      <td>10</td>\n",
              "      <td>2021</td>\n",
              "      <td>25252</td>\n",
              "    </tr>\n",
              "    <tr>\n",
              "      <th>51142</th>\n",
              "      <td>22</td>\n",
              "      <td>31</td>\n",
              "      <td>6</td>\n",
              "      <td>0</td>\n",
              "      <td>10</td>\n",
              "      <td>2021</td>\n",
              "      <td>24066</td>\n",
              "    </tr>\n",
              "    <tr>\n",
              "      <th>51143</th>\n",
              "      <td>23</td>\n",
              "      <td>31</td>\n",
              "      <td>6</td>\n",
              "      <td>0</td>\n",
              "      <td>10</td>\n",
              "      <td>2021</td>\n",
              "      <td>22691</td>\n",
              "    </tr>\n",
              "  </tbody>\n",
              "</table>\n",
              "</div>"
            ],
            "text/plain": [
              "      Hour Day  Day of week  ...  Month  Year Actual Total Load [MW] - Spain (ES)\n",
              "51139   19  31            6  ...     10  2021                               25330\n",
              "51140   20  31            6  ...     10  2021                               25562\n",
              "51141   21  31            6  ...     10  2021                               25252\n",
              "51142   22  31            6  ...     10  2021                               24066\n",
              "51143   23  31            6  ...     10  2021                               22691\n",
              "\n",
              "[5 rows x 7 columns]"
            ]
          },
          "metadata": {},
          "execution_count": 46
        }
      ]
    },
    {
      "cell_type": "code",
      "metadata": {
        "colab": {
          "base_uri": "https://localhost:8080/"
        },
        "id": "gaHQHY_eM9n9",
        "outputId": "ec63cbe2-9f0a-486e-8618-eb0e210ad57b"
      },
      "source": [
        "final_df.isnull().sum()"
      ],
      "execution_count": 47,
      "outputs": [
        {
          "output_type": "execute_result",
          "data": {
            "text/plain": [
              "Hour                                   0\n",
              "Day                                    0\n",
              "Day of week                            0\n",
              "Public_holidays                        0\n",
              "Month                                  0\n",
              "Year                                   0\n",
              "Actual Total Load [MW] - Spain (ES)    9\n",
              "dtype: int64"
            ]
          },
          "metadata": {},
          "execution_count": 47
        }
      ]
    },
    {
      "cell_type": "code",
      "metadata": {
        "colab": {
          "base_uri": "https://localhost:8080/",
          "height": 419
        },
        "id": "nPNrgUgYNIQr",
        "outputId": "494cb5e4-0135-4e1f-a180-9bc24b7a45b0"
      },
      "source": [
        "final_df"
      ],
      "execution_count": 55,
      "outputs": [
        {
          "output_type": "execute_result",
          "data": {
            "text/html": [
              "<div>\n",
              "<style scoped>\n",
              "    .dataframe tbody tr th:only-of-type {\n",
              "        vertical-align: middle;\n",
              "    }\n",
              "\n",
              "    .dataframe tbody tr th {\n",
              "        vertical-align: top;\n",
              "    }\n",
              "\n",
              "    .dataframe thead th {\n",
              "        text-align: right;\n",
              "    }\n",
              "</style>\n",
              "<table border=\"1\" class=\"dataframe\">\n",
              "  <thead>\n",
              "    <tr style=\"text-align: right;\">\n",
              "      <th></th>\n",
              "      <th>Hour</th>\n",
              "      <th>Day</th>\n",
              "      <th>Day of week</th>\n",
              "      <th>Public_holidays</th>\n",
              "      <th>Month</th>\n",
              "      <th>Year</th>\n",
              "      <th>Actual Total Load [MW] - Spain (ES)</th>\n",
              "    </tr>\n",
              "  </thead>\n",
              "  <tbody>\n",
              "    <tr>\n",
              "      <th>0</th>\n",
              "      <td>00</td>\n",
              "      <td>01</td>\n",
              "      <td>4</td>\n",
              "      <td>1</td>\n",
              "      <td>01</td>\n",
              "      <td>2016</td>\n",
              "      <td>22431</td>\n",
              "    </tr>\n",
              "    <tr>\n",
              "      <th>1</th>\n",
              "      <td>01</td>\n",
              "      <td>01</td>\n",
              "      <td>4</td>\n",
              "      <td>1</td>\n",
              "      <td>01</td>\n",
              "      <td>2016</td>\n",
              "      <td>21632</td>\n",
              "    </tr>\n",
              "    <tr>\n",
              "      <th>2</th>\n",
              "      <td>02</td>\n",
              "      <td>01</td>\n",
              "      <td>4</td>\n",
              "      <td>1</td>\n",
              "      <td>01</td>\n",
              "      <td>2016</td>\n",
              "      <td>20357</td>\n",
              "    </tr>\n",
              "    <tr>\n",
              "      <th>3</th>\n",
              "      <td>03</td>\n",
              "      <td>01</td>\n",
              "      <td>4</td>\n",
              "      <td>1</td>\n",
              "      <td>01</td>\n",
              "      <td>2016</td>\n",
              "      <td>19152</td>\n",
              "    </tr>\n",
              "    <tr>\n",
              "      <th>4</th>\n",
              "      <td>04</td>\n",
              "      <td>01</td>\n",
              "      <td>4</td>\n",
              "      <td>1</td>\n",
              "      <td>01</td>\n",
              "      <td>2016</td>\n",
              "      <td>18310</td>\n",
              "    </tr>\n",
              "    <tr>\n",
              "      <th>...</th>\n",
              "      <td>...</td>\n",
              "      <td>...</td>\n",
              "      <td>...</td>\n",
              "      <td>...</td>\n",
              "      <td>...</td>\n",
              "      <td>...</td>\n",
              "      <td>...</td>\n",
              "    </tr>\n",
              "    <tr>\n",
              "      <th>51139</th>\n",
              "      <td>19</td>\n",
              "      <td>31</td>\n",
              "      <td>6</td>\n",
              "      <td>0</td>\n",
              "      <td>10</td>\n",
              "      <td>2021</td>\n",
              "      <td>25330</td>\n",
              "    </tr>\n",
              "    <tr>\n",
              "      <th>51140</th>\n",
              "      <td>20</td>\n",
              "      <td>31</td>\n",
              "      <td>6</td>\n",
              "      <td>0</td>\n",
              "      <td>10</td>\n",
              "      <td>2021</td>\n",
              "      <td>25562</td>\n",
              "    </tr>\n",
              "    <tr>\n",
              "      <th>51141</th>\n",
              "      <td>21</td>\n",
              "      <td>31</td>\n",
              "      <td>6</td>\n",
              "      <td>0</td>\n",
              "      <td>10</td>\n",
              "      <td>2021</td>\n",
              "      <td>25252</td>\n",
              "    </tr>\n",
              "    <tr>\n",
              "      <th>51142</th>\n",
              "      <td>22</td>\n",
              "      <td>31</td>\n",
              "      <td>6</td>\n",
              "      <td>0</td>\n",
              "      <td>10</td>\n",
              "      <td>2021</td>\n",
              "      <td>24066</td>\n",
              "    </tr>\n",
              "    <tr>\n",
              "      <th>51143</th>\n",
              "      <td>23</td>\n",
              "      <td>31</td>\n",
              "      <td>6</td>\n",
              "      <td>0</td>\n",
              "      <td>10</td>\n",
              "      <td>2021</td>\n",
              "      <td>22691</td>\n",
              "    </tr>\n",
              "  </tbody>\n",
              "</table>\n",
              "<p>51144 rows × 7 columns</p>\n",
              "</div>"
            ],
            "text/plain": [
              "      Hour Day  Day of week  ...  Month  Year Actual Total Load [MW] - Spain (ES)\n",
              "0       00  01            4  ...     01  2016                               22431\n",
              "1       01  01            4  ...     01  2016                               21632\n",
              "2       02  01            4  ...     01  2016                               20357\n",
              "3       03  01            4  ...     01  2016                               19152\n",
              "4       04  01            4  ...     01  2016                               18310\n",
              "...    ...  ..          ...  ...    ...   ...                                 ...\n",
              "51139   19  31            6  ...     10  2021                               25330\n",
              "51140   20  31            6  ...     10  2021                               25562\n",
              "51141   21  31            6  ...     10  2021                               25252\n",
              "51142   22  31            6  ...     10  2021                               24066\n",
              "51143   23  31            6  ...     10  2021                               22691\n",
              "\n",
              "[51144 rows x 7 columns]"
            ]
          },
          "metadata": {},
          "execution_count": 55
        }
      ]
    },
    {
      "cell_type": "code",
      "metadata": {
        "colab": {
          "base_uri": "https://localhost:8080/"
        },
        "id": "an3v7DojNuib",
        "outputId": "51574d77-8df8-4f55-a89f-3c2021fb1975"
      },
      "source": [
        "final_df_drop_nan = final_df.fillna(method ='bfill')\n",
        "final_df_drop_nan.shape"
      ],
      "execution_count": 56,
      "outputs": [
        {
          "output_type": "execute_result",
          "data": {
            "text/plain": [
              "(51144, 7)"
            ]
          },
          "metadata": {},
          "execution_count": 56
        }
      ]
    },
    {
      "cell_type": "code",
      "metadata": {
        "id": "aZ8sEltROHkS"
      },
      "source": [
        "# final_df_drop_nan = final_df_drop_nan[:-1464]"
      ],
      "execution_count": 50,
      "outputs": []
    },
    {
      "cell_type": "code",
      "metadata": {
        "colab": {
          "base_uri": "https://localhost:8080/",
          "height": 419
        },
        "id": "PDI93j63PCrA",
        "outputId": "b1918a0b-f8d1-461b-96cf-c6da46bb052a"
      },
      "source": [
        "final_df_drop_nan"
      ],
      "execution_count": 57,
      "outputs": [
        {
          "output_type": "execute_result",
          "data": {
            "text/html": [
              "<div>\n",
              "<style scoped>\n",
              "    .dataframe tbody tr th:only-of-type {\n",
              "        vertical-align: middle;\n",
              "    }\n",
              "\n",
              "    .dataframe tbody tr th {\n",
              "        vertical-align: top;\n",
              "    }\n",
              "\n",
              "    .dataframe thead th {\n",
              "        text-align: right;\n",
              "    }\n",
              "</style>\n",
              "<table border=\"1\" class=\"dataframe\">\n",
              "  <thead>\n",
              "    <tr style=\"text-align: right;\">\n",
              "      <th></th>\n",
              "      <th>Hour</th>\n",
              "      <th>Day</th>\n",
              "      <th>Day of week</th>\n",
              "      <th>Public_holidays</th>\n",
              "      <th>Month</th>\n",
              "      <th>Year</th>\n",
              "      <th>Actual Total Load [MW] - Spain (ES)</th>\n",
              "    </tr>\n",
              "  </thead>\n",
              "  <tbody>\n",
              "    <tr>\n",
              "      <th>0</th>\n",
              "      <td>00</td>\n",
              "      <td>01</td>\n",
              "      <td>4</td>\n",
              "      <td>1</td>\n",
              "      <td>01</td>\n",
              "      <td>2016</td>\n",
              "      <td>22431</td>\n",
              "    </tr>\n",
              "    <tr>\n",
              "      <th>1</th>\n",
              "      <td>01</td>\n",
              "      <td>01</td>\n",
              "      <td>4</td>\n",
              "      <td>1</td>\n",
              "      <td>01</td>\n",
              "      <td>2016</td>\n",
              "      <td>21632</td>\n",
              "    </tr>\n",
              "    <tr>\n",
              "      <th>2</th>\n",
              "      <td>02</td>\n",
              "      <td>01</td>\n",
              "      <td>4</td>\n",
              "      <td>1</td>\n",
              "      <td>01</td>\n",
              "      <td>2016</td>\n",
              "      <td>20357</td>\n",
              "    </tr>\n",
              "    <tr>\n",
              "      <th>3</th>\n",
              "      <td>03</td>\n",
              "      <td>01</td>\n",
              "      <td>4</td>\n",
              "      <td>1</td>\n",
              "      <td>01</td>\n",
              "      <td>2016</td>\n",
              "      <td>19152</td>\n",
              "    </tr>\n",
              "    <tr>\n",
              "      <th>4</th>\n",
              "      <td>04</td>\n",
              "      <td>01</td>\n",
              "      <td>4</td>\n",
              "      <td>1</td>\n",
              "      <td>01</td>\n",
              "      <td>2016</td>\n",
              "      <td>18310</td>\n",
              "    </tr>\n",
              "    <tr>\n",
              "      <th>...</th>\n",
              "      <td>...</td>\n",
              "      <td>...</td>\n",
              "      <td>...</td>\n",
              "      <td>...</td>\n",
              "      <td>...</td>\n",
              "      <td>...</td>\n",
              "      <td>...</td>\n",
              "    </tr>\n",
              "    <tr>\n",
              "      <th>51139</th>\n",
              "      <td>19</td>\n",
              "      <td>31</td>\n",
              "      <td>6</td>\n",
              "      <td>0</td>\n",
              "      <td>10</td>\n",
              "      <td>2021</td>\n",
              "      <td>25330</td>\n",
              "    </tr>\n",
              "    <tr>\n",
              "      <th>51140</th>\n",
              "      <td>20</td>\n",
              "      <td>31</td>\n",
              "      <td>6</td>\n",
              "      <td>0</td>\n",
              "      <td>10</td>\n",
              "      <td>2021</td>\n",
              "      <td>25562</td>\n",
              "    </tr>\n",
              "    <tr>\n",
              "      <th>51141</th>\n",
              "      <td>21</td>\n",
              "      <td>31</td>\n",
              "      <td>6</td>\n",
              "      <td>0</td>\n",
              "      <td>10</td>\n",
              "      <td>2021</td>\n",
              "      <td>25252</td>\n",
              "    </tr>\n",
              "    <tr>\n",
              "      <th>51142</th>\n",
              "      <td>22</td>\n",
              "      <td>31</td>\n",
              "      <td>6</td>\n",
              "      <td>0</td>\n",
              "      <td>10</td>\n",
              "      <td>2021</td>\n",
              "      <td>24066</td>\n",
              "    </tr>\n",
              "    <tr>\n",
              "      <th>51143</th>\n",
              "      <td>23</td>\n",
              "      <td>31</td>\n",
              "      <td>6</td>\n",
              "      <td>0</td>\n",
              "      <td>10</td>\n",
              "      <td>2021</td>\n",
              "      <td>22691</td>\n",
              "    </tr>\n",
              "  </tbody>\n",
              "</table>\n",
              "<p>51144 rows × 7 columns</p>\n",
              "</div>"
            ],
            "text/plain": [
              "      Hour Day  Day of week  ...  Month  Year Actual Total Load [MW] - Spain (ES)\n",
              "0       00  01            4  ...     01  2016                               22431\n",
              "1       01  01            4  ...     01  2016                               21632\n",
              "2       02  01            4  ...     01  2016                               20357\n",
              "3       03  01            4  ...     01  2016                               19152\n",
              "4       04  01            4  ...     01  2016                               18310\n",
              "...    ...  ..          ...  ...    ...   ...                                 ...\n",
              "51139   19  31            6  ...     10  2021                               25330\n",
              "51140   20  31            6  ...     10  2021                               25562\n",
              "51141   21  31            6  ...     10  2021                               25252\n",
              "51142   22  31            6  ...     10  2021                               24066\n",
              "51143   23  31            6  ...     10  2021                               22691\n",
              "\n",
              "[51144 rows x 7 columns]"
            ]
          },
          "metadata": {},
          "execution_count": 57
        }
      ]
    },
    {
      "cell_type": "code",
      "metadata": {
        "colab": {
          "base_uri": "https://localhost:8080/"
        },
        "id": "i4oNuTJ1ONN_",
        "outputId": "d803cbe8-3ac3-4f15-af90-d07ea2d724bc"
      },
      "source": [
        "final_df_drop_nan.dtypes"
      ],
      "execution_count": 58,
      "outputs": [
        {
          "output_type": "execute_result",
          "data": {
            "text/plain": [
              "Hour                                   object\n",
              "Day                                    object\n",
              "Day of week                             int64\n",
              "Public_holidays                         int64\n",
              "Month                                  object\n",
              "Year                                   object\n",
              "Actual Total Load [MW] - Spain (ES)    object\n",
              "dtype: object"
            ]
          },
          "metadata": {},
          "execution_count": 58
        }
      ]
    },
    {
      "cell_type": "code",
      "metadata": {
        "colab": {
          "base_uri": "https://localhost:8080/",
          "height": 419
        },
        "id": "NYm7q09wOPmM",
        "outputId": "639cbc11-c4c7-4567-e3ab-ea92618707f3"
      },
      "source": [
        "final_df_drop_nan"
      ],
      "execution_count": 59,
      "outputs": [
        {
          "output_type": "execute_result",
          "data": {
            "text/html": [
              "<div>\n",
              "<style scoped>\n",
              "    .dataframe tbody tr th:only-of-type {\n",
              "        vertical-align: middle;\n",
              "    }\n",
              "\n",
              "    .dataframe tbody tr th {\n",
              "        vertical-align: top;\n",
              "    }\n",
              "\n",
              "    .dataframe thead th {\n",
              "        text-align: right;\n",
              "    }\n",
              "</style>\n",
              "<table border=\"1\" class=\"dataframe\">\n",
              "  <thead>\n",
              "    <tr style=\"text-align: right;\">\n",
              "      <th></th>\n",
              "      <th>Hour</th>\n",
              "      <th>Day</th>\n",
              "      <th>Day of week</th>\n",
              "      <th>Public_holidays</th>\n",
              "      <th>Month</th>\n",
              "      <th>Year</th>\n",
              "      <th>Actual Total Load [MW] - Spain (ES)</th>\n",
              "    </tr>\n",
              "  </thead>\n",
              "  <tbody>\n",
              "    <tr>\n",
              "      <th>0</th>\n",
              "      <td>00</td>\n",
              "      <td>01</td>\n",
              "      <td>4</td>\n",
              "      <td>1</td>\n",
              "      <td>01</td>\n",
              "      <td>2016</td>\n",
              "      <td>22431</td>\n",
              "    </tr>\n",
              "    <tr>\n",
              "      <th>1</th>\n",
              "      <td>01</td>\n",
              "      <td>01</td>\n",
              "      <td>4</td>\n",
              "      <td>1</td>\n",
              "      <td>01</td>\n",
              "      <td>2016</td>\n",
              "      <td>21632</td>\n",
              "    </tr>\n",
              "    <tr>\n",
              "      <th>2</th>\n",
              "      <td>02</td>\n",
              "      <td>01</td>\n",
              "      <td>4</td>\n",
              "      <td>1</td>\n",
              "      <td>01</td>\n",
              "      <td>2016</td>\n",
              "      <td>20357</td>\n",
              "    </tr>\n",
              "    <tr>\n",
              "      <th>3</th>\n",
              "      <td>03</td>\n",
              "      <td>01</td>\n",
              "      <td>4</td>\n",
              "      <td>1</td>\n",
              "      <td>01</td>\n",
              "      <td>2016</td>\n",
              "      <td>19152</td>\n",
              "    </tr>\n",
              "    <tr>\n",
              "      <th>4</th>\n",
              "      <td>04</td>\n",
              "      <td>01</td>\n",
              "      <td>4</td>\n",
              "      <td>1</td>\n",
              "      <td>01</td>\n",
              "      <td>2016</td>\n",
              "      <td>18310</td>\n",
              "    </tr>\n",
              "    <tr>\n",
              "      <th>...</th>\n",
              "      <td>...</td>\n",
              "      <td>...</td>\n",
              "      <td>...</td>\n",
              "      <td>...</td>\n",
              "      <td>...</td>\n",
              "      <td>...</td>\n",
              "      <td>...</td>\n",
              "    </tr>\n",
              "    <tr>\n",
              "      <th>51139</th>\n",
              "      <td>19</td>\n",
              "      <td>31</td>\n",
              "      <td>6</td>\n",
              "      <td>0</td>\n",
              "      <td>10</td>\n",
              "      <td>2021</td>\n",
              "      <td>25330</td>\n",
              "    </tr>\n",
              "    <tr>\n",
              "      <th>51140</th>\n",
              "      <td>20</td>\n",
              "      <td>31</td>\n",
              "      <td>6</td>\n",
              "      <td>0</td>\n",
              "      <td>10</td>\n",
              "      <td>2021</td>\n",
              "      <td>25562</td>\n",
              "    </tr>\n",
              "    <tr>\n",
              "      <th>51141</th>\n",
              "      <td>21</td>\n",
              "      <td>31</td>\n",
              "      <td>6</td>\n",
              "      <td>0</td>\n",
              "      <td>10</td>\n",
              "      <td>2021</td>\n",
              "      <td>25252</td>\n",
              "    </tr>\n",
              "    <tr>\n",
              "      <th>51142</th>\n",
              "      <td>22</td>\n",
              "      <td>31</td>\n",
              "      <td>6</td>\n",
              "      <td>0</td>\n",
              "      <td>10</td>\n",
              "      <td>2021</td>\n",
              "      <td>24066</td>\n",
              "    </tr>\n",
              "    <tr>\n",
              "      <th>51143</th>\n",
              "      <td>23</td>\n",
              "      <td>31</td>\n",
              "      <td>6</td>\n",
              "      <td>0</td>\n",
              "      <td>10</td>\n",
              "      <td>2021</td>\n",
              "      <td>22691</td>\n",
              "    </tr>\n",
              "  </tbody>\n",
              "</table>\n",
              "<p>51144 rows × 7 columns</p>\n",
              "</div>"
            ],
            "text/plain": [
              "      Hour Day  Day of week  ...  Month  Year Actual Total Load [MW] - Spain (ES)\n",
              "0       00  01            4  ...     01  2016                               22431\n",
              "1       01  01            4  ...     01  2016                               21632\n",
              "2       02  01            4  ...     01  2016                               20357\n",
              "3       03  01            4  ...     01  2016                               19152\n",
              "4       04  01            4  ...     01  2016                               18310\n",
              "...    ...  ..          ...  ...    ...   ...                                 ...\n",
              "51139   19  31            6  ...     10  2021                               25330\n",
              "51140   20  31            6  ...     10  2021                               25562\n",
              "51141   21  31            6  ...     10  2021                               25252\n",
              "51142   22  31            6  ...     10  2021                               24066\n",
              "51143   23  31            6  ...     10  2021                               22691\n",
              "\n",
              "[51144 rows x 7 columns]"
            ]
          },
          "metadata": {},
          "execution_count": 59
        }
      ]
    },
    {
      "cell_type": "code",
      "metadata": {
        "id": "yCu-v7OaOVTF"
      },
      "source": [
        "# Transforms to numerical values\n",
        "final_df_drop_nan['Hour'] = final_df_drop_nan['Hour'].astype(int)\n",
        "final_df_drop_nan['Day'] = final_df_drop_nan['Day'].astype(int)\n",
        "final_df_drop_nan['Month'] = final_df_drop_nan['Month'].astype(int)\n",
        "final_df_drop_nan['Year'] = final_df_drop_nan['Year'].astype(int)"
      ],
      "execution_count": 60,
      "outputs": []
    },
    {
      "cell_type": "code",
      "metadata": {
        "id": "Pht7eVfrPVyB"
      },
      "source": [
        "final_df_drop_nan['Actual Total Load [MW] - Spain (ES)'] = final_df_drop_nan['Actual Total Load [MW] - Spain (ES)'].astype(float)"
      ],
      "execution_count": 61,
      "outputs": []
    },
    {
      "cell_type": "code",
      "metadata": {
        "colab": {
          "base_uri": "https://localhost:8080/"
        },
        "id": "K4HEO0nAO0-r",
        "outputId": "252b025d-a77d-4632-ce94-e51cdc7d949a"
      },
      "source": [
        "final_df_drop_nan.dtypes"
      ],
      "execution_count": 62,
      "outputs": [
        {
          "output_type": "execute_result",
          "data": {
            "text/plain": [
              "Hour                                     int64\n",
              "Day                                      int64\n",
              "Day of week                              int64\n",
              "Public_holidays                          int64\n",
              "Month                                    int64\n",
              "Year                                     int64\n",
              "Actual Total Load [MW] - Spain (ES)    float64\n",
              "dtype: object"
            ]
          },
          "metadata": {},
          "execution_count": 62
        }
      ]
    },
    {
      "cell_type": "code",
      "metadata": {
        "id": "v3CJYRX8O2se"
      },
      "source": [
        ""
      ],
      "execution_count": 63,
      "outputs": []
    },
    {
      "cell_type": "code",
      "metadata": {
        "colab": {
          "base_uri": "https://localhost:8080/",
          "height": 334
        },
        "id": "a0hKhwybO7Pm",
        "outputId": "5367ed3c-c0f7-47e7-b8bb-6bfeb990c803"
      },
      "source": [
        ""
      ],
      "execution_count": 64,
      "outputs": [
        {
          "output_type": "display_data",
          "data": {
            "image/png": "[encoded data removed]",
            "text/plain": [
              "<Figure size 1296x360 with 1 Axes>"
            ]
          },
          "metadata": {
            "needs_background": "light"
          }
        }
      ]
    },
    {
      "cell_type": "markdown",
      "metadata": {
        "id": "-x-aBFrl9SnW"
      },
      "source": [
        "# LSTM\n"
      ]
    },
    {
      "cell_type": "code",
      "metadata": {
        "colab": {
          "base_uri": "https://localhost:8080/",
          "height": 297
        },
        "id": "CHZIw0_6SwAD",
        "outputId": "0b13595c-b105-47de-9d49-b6baff2b7c09"
      },
      "source": [
        "# Normalization of 'Actual Total Load [MW] - BZN|EE''\n",
        "lstm_data = final_df_drop_nan.copy()\n",
        "max_x = lstm_data['Actual Total Load [MW] - Spain (ES)'].max()\n",
        "min_x = lstm_data['Actual Total Load [MW] - Spain (ES)'].min()\n",
        "lstm_data['Actual Total Load [MW] - Spain (ES)'] = (lstm_data['Actual Total Load [MW] - Spain (ES)'] - min_x) / (max_x - min_x)\n",
        "# lstm_data['Actual Total Load [MW] - BZN|EE'] = lstm_data['Actual Total Load [MW] - BZN|EE']*(max_x - min_x) + min_x # To reverse\n",
        "lstm_data.describe()"
      ],
      "execution_count": 71,
      "outputs": [
        {
          "output_type": "execute_result",
          "data": {
            "text/html": [
              "<div>\n",
              "<style scoped>\n",
              "    .dataframe tbody tr th:only-of-type {\n",
              "        vertical-align: middle;\n",
              "    }\n",
              "\n",
              "    .dataframe tbody tr th {\n",
              "        vertical-align: top;\n",
              "    }\n",
              "\n",
              "    .dataframe thead th {\n",
              "        text-align: right;\n",
              "    }\n",
              "</style>\n",
              "<table border=\"1\" class=\"dataframe\">\n",
              "  <thead>\n",
              "    <tr style=\"text-align: right;\">\n",
              "      <th></th>\n",
              "      <th>Hour</th>\n",
              "      <th>Day</th>\n",
              "      <th>Day of week</th>\n",
              "      <th>Public_holidays</th>\n",
              "      <th>Month</th>\n",
              "      <th>Year</th>\n",
              "      <th>Actual Total Load [MW] - Spain (ES)</th>\n",
              "    </tr>\n",
              "  </thead>\n",
              "  <tbody>\n",
              "    <tr>\n",
              "      <th>count</th>\n",
              "      <td>51144.000000</td>\n",
              "      <td>51144.000000</td>\n",
              "      <td>51144.000000</td>\n",
              "      <td>51144.000000</td>\n",
              "      <td>51144.000000</td>\n",
              "      <td>51144.000000</td>\n",
              "      <td>51144.000000</td>\n",
              "    </tr>\n",
              "    <tr>\n",
              "      <th>mean</th>\n",
              "      <td>11.500000</td>\n",
              "      <td>15.732129</td>\n",
              "      <td>3.002816</td>\n",
              "      <td>0.032360</td>\n",
              "      <td>6.379986</td>\n",
              "      <td>2018.427968</td>\n",
              "      <td>0.466457</td>\n",
              "    </tr>\n",
              "    <tr>\n",
              "      <th>std</th>\n",
              "      <td>6.922254</td>\n",
              "      <td>8.801404</td>\n",
              "      <td>2.000252</td>\n",
              "      <td>0.176955</td>\n",
              "      <td>3.390752</td>\n",
              "      <td>1.678502</td>\n",
              "      <td>0.181226</td>\n",
              "    </tr>\n",
              "    <tr>\n",
              "      <th>min</th>\n",
              "      <td>0.000000</td>\n",
              "      <td>1.000000</td>\n",
              "      <td>0.000000</td>\n",
              "      <td>0.000000</td>\n",
              "      <td>1.000000</td>\n",
              "      <td>2016.000000</td>\n",
              "      <td>0.000000</td>\n",
              "    </tr>\n",
              "    <tr>\n",
              "      <th>25%</th>\n",
              "      <td>5.750000</td>\n",
              "      <td>8.000000</td>\n",
              "      <td>1.000000</td>\n",
              "      <td>0.000000</td>\n",
              "      <td>3.000000</td>\n",
              "      <td>2017.000000</td>\n",
              "      <td>0.315809</td>\n",
              "    </tr>\n",
              "    <tr>\n",
              "      <th>50%</th>\n",
              "      <td>11.500000</td>\n",
              "      <td>16.000000</td>\n",
              "      <td>3.000000</td>\n",
              "      <td>0.000000</td>\n",
              "      <td>6.000000</td>\n",
              "      <td>2018.000000</td>\n",
              "      <td>0.469181</td>\n",
              "    </tr>\n",
              "    <tr>\n",
              "      <th>75%</th>\n",
              "      <td>17.250000</td>\n",
              "      <td>23.000000</td>\n",
              "      <td>5.000000</td>\n",
              "      <td>0.000000</td>\n",
              "      <td>9.000000</td>\n",
              "      <td>2020.000000</td>\n",
              "      <td>0.605266</td>\n",
              "    </tr>\n",
              "    <tr>\n",
              "      <th>max</th>\n",
              "      <td>23.000000</td>\n",
              "      <td>31.000000</td>\n",
              "      <td>6.000000</td>\n",
              "      <td>1.000000</td>\n",
              "      <td>12.000000</td>\n",
              "      <td>2021.000000</td>\n",
              "      <td>1.000000</td>\n",
              "    </tr>\n",
              "  </tbody>\n",
              "</table>\n",
              "</div>"
            ],
            "text/plain": [
              "               Hour  ...  Actual Total Load [MW] - Spain (ES)\n",
              "count  51144.000000  ...                         51144.000000\n",
              "mean      11.500000  ...                             0.466457\n",
              "std        6.922254  ...                             0.181226\n",
              "min        0.000000  ...                             0.000000\n",
              "25%        5.750000  ...                             0.315809\n",
              "50%       11.500000  ...                             0.469181\n",
              "75%       17.250000  ...                             0.605266\n",
              "max       23.000000  ...                             1.000000\n",
              "\n",
              "[8 rows x 7 columns]"
            ]
          },
          "metadata": {},
          "execution_count": 71
        }
      ]
    },
    {
      "cell_type": "code",
      "metadata": {
        "id": "7oRNYVOX9ZgZ"
      },
      "source": [
        "n_prev = 720\n",
        "\n",
        "train = lstm_data[(lstm_data['Year']!=2021)]\n",
        "test = lstm_data[(lstm_data['Year']==2021)]"
      ],
      "execution_count": 97,
      "outputs": []
    },
    {
      "cell_type": "code",
      "metadata": {
        "colab": {
          "base_uri": "https://localhost:8080/",
          "height": 419
        },
        "id": "r9TkzWsc4owT",
        "outputId": "409479d8-3fc8-4f3a-c7d6-1697cbe64704"
      },
      "source": [
        "test"
      ],
      "execution_count": 98,
      "outputs": [
        {
          "output_type": "execute_result",
          "data": {
            "text/html": [
              "<div>\n",
              "<style scoped>\n",
              "    .dataframe tbody tr th:only-of-type {\n",
              "        vertical-align: middle;\n",
              "    }\n",
              "\n",
              "    .dataframe tbody tr th {\n",
              "        vertical-align: top;\n",
              "    }\n",
              "\n",
              "    .dataframe thead th {\n",
              "        text-align: right;\n",
              "    }\n",
              "</style>\n",
              "<table border=\"1\" class=\"dataframe\">\n",
              "  <thead>\n",
              "    <tr style=\"text-align: right;\">\n",
              "      <th></th>\n",
              "      <th>Hour</th>\n",
              "      <th>Day</th>\n",
              "      <th>Day of week</th>\n",
              "      <th>Public_holidays</th>\n",
              "      <th>Month</th>\n",
              "      <th>Year</th>\n",
              "      <th>Actual Total Load [MW] - Spain (ES)</th>\n",
              "    </tr>\n",
              "  </thead>\n",
              "  <tbody>\n",
              "    <tr>\n",
              "      <th>43848</th>\n",
              "      <td>0</td>\n",
              "      <td>1</td>\n",
              "      <td>4</td>\n",
              "      <td>1</td>\n",
              "      <td>1</td>\n",
              "      <td>2021</td>\n",
              "      <td>0.319631</td>\n",
              "    </tr>\n",
              "    <tr>\n",
              "      <th>43849</th>\n",
              "      <td>1</td>\n",
              "      <td>1</td>\n",
              "      <td>4</td>\n",
              "      <td>1</td>\n",
              "      <td>1</td>\n",
              "      <td>2021</td>\n",
              "      <td>0.272489</td>\n",
              "    </tr>\n",
              "    <tr>\n",
              "      <th>43850</th>\n",
              "      <td>2</td>\n",
              "      <td>1</td>\n",
              "      <td>4</td>\n",
              "      <td>1</td>\n",
              "      <td>1</td>\n",
              "      <td>2021</td>\n",
              "      <td>0.188411</td>\n",
              "    </tr>\n",
              "    <tr>\n",
              "      <th>43851</th>\n",
              "      <td>3</td>\n",
              "      <td>1</td>\n",
              "      <td>4</td>\n",
              "      <td>1</td>\n",
              "      <td>1</td>\n",
              "      <td>2021</td>\n",
              "      <td>0.120378</td>\n",
              "    </tr>\n",
              "    <tr>\n",
              "      <th>43852</th>\n",
              "      <td>4</td>\n",
              "      <td>1</td>\n",
              "      <td>4</td>\n",
              "      <td>1</td>\n",
              "      <td>1</td>\n",
              "      <td>2021</td>\n",
              "      <td>0.086501</td>\n",
              "    </tr>\n",
              "    <tr>\n",
              "      <th>...</th>\n",
              "      <td>...</td>\n",
              "      <td>...</td>\n",
              "      <td>...</td>\n",
              "      <td>...</td>\n",
              "      <td>...</td>\n",
              "      <td>...</td>\n",
              "      <td>...</td>\n",
              "    </tr>\n",
              "    <tr>\n",
              "      <th>51139</th>\n",
              "      <td>19</td>\n",
              "      <td>31</td>\n",
              "      <td>6</td>\n",
              "      <td>0</td>\n",
              "      <td>10</td>\n",
              "      <td>2021</td>\n",
              "      <td>0.347710</td>\n",
              "    </tr>\n",
              "    <tr>\n",
              "      <th>51140</th>\n",
              "      <td>20</td>\n",
              "      <td>31</td>\n",
              "      <td>6</td>\n",
              "      <td>0</td>\n",
              "      <td>10</td>\n",
              "      <td>2021</td>\n",
              "      <td>0.356924</td>\n",
              "    </tr>\n",
              "    <tr>\n",
              "      <th>51141</th>\n",
              "      <td>21</td>\n",
              "      <td>31</td>\n",
              "      <td>6</td>\n",
              "      <td>0</td>\n",
              "      <td>10</td>\n",
              "      <td>2021</td>\n",
              "      <td>0.344613</td>\n",
              "    </tr>\n",
              "    <tr>\n",
              "      <th>51142</th>\n",
              "      <td>22</td>\n",
              "      <td>31</td>\n",
              "      <td>6</td>\n",
              "      <td>0</td>\n",
              "      <td>10</td>\n",
              "      <td>2021</td>\n",
              "      <td>0.297510</td>\n",
              "    </tr>\n",
              "    <tr>\n",
              "      <th>51143</th>\n",
              "      <td>23</td>\n",
              "      <td>31</td>\n",
              "      <td>6</td>\n",
              "      <td>0</td>\n",
              "      <td>10</td>\n",
              "      <td>2021</td>\n",
              "      <td>0.242901</td>\n",
              "    </tr>\n",
              "  </tbody>\n",
              "</table>\n",
              "<p>7296 rows × 7 columns</p>\n",
              "</div>"
            ],
            "text/plain": [
              "       Hour  Day  Day of week  ...  Month  Year  Actual Total Load [MW] - Spain (ES)\n",
              "43848     0    1            4  ...      1  2021                             0.319631\n",
              "43849     1    1            4  ...      1  2021                             0.272489\n",
              "43850     2    1            4  ...      1  2021                             0.188411\n",
              "43851     3    1            4  ...      1  2021                             0.120378\n",
              "43852     4    1            4  ...      1  2021                             0.086501\n",
              "...     ...  ...          ...  ...    ...   ...                                  ...\n",
              "51139    19   31            6  ...     10  2021                             0.347710\n",
              "51140    20   31            6  ...     10  2021                             0.356924\n",
              "51141    21   31            6  ...     10  2021                             0.344613\n",
              "51142    22   31            6  ...     10  2021                             0.297510\n",
              "51143    23   31            6  ...     10  2021                             0.242901\n",
              "\n",
              "[7296 rows x 7 columns]"
            ]
          },
          "metadata": {},
          "execution_count": 98
        }
      ]
    },
    {
      "cell_type": "code",
      "metadata": {
        "id": "rRsP6n29-ljG"
      },
      "source": [
        "lstm_train = train[['Actual Total Load [MW] - Spain (ES)']]\n",
        "lstm_test = test[['Actual Total Load [MW] - Spain (ES)']]"
      ],
      "execution_count": 73,
      "outputs": []
    },
    {
      "cell_type": "code",
      "metadata": {
        "colab": {
          "base_uri": "https://localhost:8080/",
          "height": 419
        },
        "id": "agFZgilt-n_k",
        "outputId": "cacbb678-52e7-4995-f655-711f03bfff50"
      },
      "source": [
        "lstm_train"
      ],
      "execution_count": 74,
      "outputs": [
        {
          "output_type": "execute_result",
          "data": {
            "text/html": [
              "<div>\n",
              "<style scoped>\n",
              "    .dataframe tbody tr th:only-of-type {\n",
              "        vertical-align: middle;\n",
              "    }\n",
              "\n",
              "    .dataframe tbody tr th {\n",
              "        vertical-align: top;\n",
              "    }\n",
              "\n",
              "    .dataframe thead th {\n",
              "        text-align: right;\n",
              "    }\n",
              "</style>\n",
              "<table border=\"1\" class=\"dataframe\">\n",
              "  <thead>\n",
              "    <tr style=\"text-align: right;\">\n",
              "      <th></th>\n",
              "      <th>Actual Total Load [MW] - Spain (ES)</th>\n",
              "    </tr>\n",
              "  </thead>\n",
              "  <tbody>\n",
              "    <tr>\n",
              "      <th>0</th>\n",
              "      <td>0.232575</td>\n",
              "    </tr>\n",
              "    <tr>\n",
              "      <th>1</th>\n",
              "      <td>0.200842</td>\n",
              "    </tr>\n",
              "    <tr>\n",
              "      <th>2</th>\n",
              "      <td>0.150205</td>\n",
              "    </tr>\n",
              "    <tr>\n",
              "      <th>3</th>\n",
              "      <td>0.102347</td>\n",
              "    </tr>\n",
              "    <tr>\n",
              "      <th>4</th>\n",
              "      <td>0.068907</td>\n",
              "    </tr>\n",
              "    <tr>\n",
              "      <th>...</th>\n",
              "      <td>...</td>\n",
              "    </tr>\n",
              "    <tr>\n",
              "      <th>43843</th>\n",
              "      <td>0.602844</td>\n",
              "    </tr>\n",
              "    <tr>\n",
              "      <th>43844</th>\n",
              "      <td>0.581516</td>\n",
              "    </tr>\n",
              "    <tr>\n",
              "      <th>43845</th>\n",
              "      <td>0.537194</td>\n",
              "    </tr>\n",
              "    <tr>\n",
              "      <th>43846</th>\n",
              "      <td>0.431788</td>\n",
              "    </tr>\n",
              "    <tr>\n",
              "      <th>43847</th>\n",
              "      <td>0.375114</td>\n",
              "    </tr>\n",
              "  </tbody>\n",
              "</table>\n",
              "<p>43848 rows × 1 columns</p>\n",
              "</div>"
            ],
            "text/plain": [
              "       Actual Total Load [MW] - Spain (ES)\n",
              "0                                 0.232575\n",
              "1                                 0.200842\n",
              "2                                 0.150205\n",
              "3                                 0.102347\n",
              "4                                 0.068907\n",
              "...                                    ...\n",
              "43843                             0.602844\n",
              "43844                             0.581516\n",
              "43845                             0.537194\n",
              "43846                             0.431788\n",
              "43847                             0.375114\n",
              "\n",
              "[43848 rows x 1 columns]"
            ]
          },
          "metadata": {},
          "execution_count": 74
        }
      ]
    },
    {
      "cell_type": "code",
      "metadata": {
        "id": "CDmOobI7-wQh"
      },
      "source": [
        "# convert an array of values into a dataset matrix\n",
        "def load_data(data, n_prev):\n",
        "    docX, docY = [], []\n",
        "    for i in range(len(data)-n_prev):\n",
        "        docX.append(data.iloc[i:i+n_prev])\n",
        "        docY.append(data.iloc[i+n_prev])\n",
        "    alsX = np.array(docX)\n",
        "    alsY = np.array(docY)\n",
        "    return alsX, alsY"
      ],
      "execution_count": 75,
      "outputs": []
    },
    {
      "cell_type": "code",
      "metadata": {
        "id": "_C2m0JeKdPGl"
      },
      "source": [
        "trainX, trainY = load_data(lstm_train, n_prev)\n",
        "testX, testY = load_data(lstm_test, n_prev)"
      ],
      "execution_count": 76,
      "outputs": []
    },
    {
      "cell_type": "code",
      "metadata": {
        "colab": {
          "base_uri": "https://localhost:8080/"
        },
        "id": "uSJtNR9G4ycM",
        "outputId": "21c11cae-f6b7-46b3-f100-57fd06c90177"
      },
      "source": [
        "len(testY)"
      ],
      "execution_count": 93,
      "outputs": [
        {
          "output_type": "execute_result",
          "data": {
            "text/plain": [
              "6576"
            ]
          },
          "metadata": {},
          "execution_count": 93
        }
      ]
    },
    {
      "cell_type": "code",
      "metadata": {
        "colab": {
          "base_uri": "https://localhost:8080/"
        },
        "id": "aiywVXJMdQvm",
        "outputId": "0c57ebc2-6f95-4fa5-8ef0-55e4b4073ec1"
      },
      "source": [
        "print(trainX.shape,trainY.shape,testX.shape,testY.shape)"
      ],
      "execution_count": 77,
      "outputs": [
        {
          "output_type": "stream",
          "name": "stdout",
          "text": [
            "(43128, 720, 1) (43128, 1) (6576, 720, 1) (6576, 1)\n"
          ]
        }
      ]
    },
    {
      "cell_type": "code",
      "metadata": {
        "id": "ry0cqim3dTwA"
      },
      "source": [
        "from keras.models import Sequential  \n",
        "from keras.layers.core import Dense, Activation  \n",
        "from keras.layers.recurrent import LSTM\n",
        "from keras.layers import Dropout"
      ],
      "execution_count": 78,
      "outputs": []
    },
    {
      "cell_type": "code",
      "metadata": {
        "colab": {
          "base_uri": "https://localhost:8080/"
        },
        "id": "xfJ8S3HZdVaj",
        "outputId": "0ab22294-764f-4118-b5e0-bd5721d3eab1"
      },
      "source": [
        "# Creates and fit the LSTM network\n",
        "length_of_sequences = trainX.shape[1]\n",
        "hidden_neurons = 2\n",
        "in_out_neurons = 1\n",
        "\n",
        "model = Sequential()\n",
        "model.add(LSTM(hidden_neurons, batch_input_shape=(None, length_of_sequences, in_out_neurons), return_sequences=False))\n",
        "model.add(Dropout(0.25))\n",
        "model.add(Dense(1))  \n",
        "model.add(Activation(\"linear\")) \n",
        " \n",
        "model.compile(loss=\"mean_squared_error\", optimizer=\"adam\")\n",
        "history = model.fit(trainX, trainY, batch_size=20, epochs=3, validation_split=0.2)"
      ],
      "execution_count": 79,
      "outputs": [
        {
          "output_type": "stream",
          "name": "stdout",
          "text": [
            "Epoch 1/3\n",
            "1726/1726 [==============================] - 882s 510ms/step - loss: 0.0332 - val_loss: 0.0110\n",
            "Epoch 2/3\n",
            "1726/1726 [==============================] - 878s 509ms/step - loss: 0.0116 - val_loss: 0.0052\n",
            "Epoch 3/3\n",
            "1726/1726 [==============================] - 873s 506ms/step - loss: 0.0072 - val_loss: 0.0026\n"
          ]
        }
      ]
    },
    {
      "cell_type": "code",
      "metadata": {
        "colab": {
          "base_uri": "https://localhost:8080/",
          "height": 375
        },
        "id": "bCkmrRGm6vbs",
        "outputId": "79e1f5c7-d88a-49ed-e361-4b633e19687a"
      },
      "source": [
        "# checking the learning\n",
        "predy = model.predict(trainX)\n",
        "trainY_reverse = trainY*(max_x - min_x) + min_x # To reverse\n",
        "predy_reverse = predy*(max_x - min_x) + min_x # To reverse\n",
        "\n",
        "# Visualising th learning\n",
        "plt.figure(figsize=(18,5))\n",
        "plt.plot(trainY_reverse)\n",
        "plt.plot(predy_reverse)\n",
        "# plt.plot(predY_reverse - testY_reverse)\n",
        "plt.xlabel(\"Hours in 2020\")\n",
        "plt.ylabel(\"Error [actual -- predict load]\")\n",
        "# plt.ylim([-450, 450])\n",
        "plt.show()"
      ],
      "execution_count": 99,
      "outputs": [
        {
          "output_type": "error",
          "ename": "ValueError",
          "evalue": "ignored",
          "traceback": [
            "\u001b[0;31m---------------------------------------------------------------------------\u001b[0m",
            "\u001b[0;31mValueError\u001b[0m                                Traceback (most recent call last)",
            "\u001b[0;32m<ipython-input-99-7b84865072d4>\u001b[0m in \u001b[0;36m<module>\u001b[0;34m()\u001b[0m\n\u001b[1;32m      1\u001b[0m \u001b[0mpredy\u001b[0m \u001b[0;34m=\u001b[0m \u001b[0mmodel\u001b[0m\u001b[0;34m.\u001b[0m\u001b[0mpredict\u001b[0m\u001b[0;34m(\u001b[0m\u001b[0mtrainX\u001b[0m\u001b[0;34m)\u001b[0m\u001b[0;34m\u001b[0m\u001b[0;34m\u001b[0m\u001b[0m\n\u001b[0;32m----> 2\u001b[0;31m \u001b[0mr2_score_result\u001b[0m \u001b[0;34m=\u001b[0m \u001b[0mr2_score\u001b[0m\u001b[0;34m(\u001b[0m\u001b[0mtrainX\u001b[0m\u001b[0;34m,\u001b[0m \u001b[0mpredy\u001b[0m\u001b[0;34m)\u001b[0m\u001b[0;34m\u001b[0m\u001b[0;34m\u001b[0m\u001b[0m\n\u001b[0m\u001b[1;32m      3\u001b[0m \u001b[0madjusted_r2_score_result\u001b[0m \u001b[0;34m=\u001b[0m \u001b[0;36m1\u001b[0m \u001b[0;34m-\u001b[0m \u001b[0;34m(\u001b[0m\u001b[0;36m1\u001b[0m\u001b[0;34m-\u001b[0m\u001b[0mr2_score_result\u001b[0m\u001b[0;34m)\u001b[0m\u001b[0;34m*\u001b[0m\u001b[0;34m(\u001b[0m\u001b[0mlen\u001b[0m\u001b[0;34m(\u001b[0m\u001b[0mpredy\u001b[0m\u001b[0;34m)\u001b[0m\u001b[0;34m-\u001b[0m\u001b[0;36m1\u001b[0m\u001b[0;34m)\u001b[0m\u001b[0;34m/\u001b[0m\u001b[0;34m(\u001b[0m\u001b[0mlen\u001b[0m\u001b[0;34m(\u001b[0m\u001b[0mpredy\u001b[0m\u001b[0;34m)\u001b[0m\u001b[0;34m-\u001b[0m\u001b[0mtrainX\u001b[0m\u001b[0;34m.\u001b[0m\u001b[0mshape\u001b[0m\u001b[0;34m[\u001b[0m\u001b[0;36m1\u001b[0m\u001b[0;34m]\u001b[0m\u001b[0;34m-\u001b[0m\u001b[0;36m1\u001b[0m\u001b[0;34m)\u001b[0m\u001b[0;34m\u001b[0m\u001b[0;34m\u001b[0m\u001b[0m\n\u001b[1;32m      4\u001b[0m \u001b[0mprint\u001b[0m\u001b[0;34m(\u001b[0m\u001b[0;34m'R^2_adj:'\u001b[0m\u001b[0;34m,\u001b[0m\u001b[0mround\u001b[0m\u001b[0;34m(\u001b[0m\u001b[0madjusted_r2_score_result\u001b[0m\u001b[0;34m,\u001b[0m\u001b[0;36m3\u001b[0m\u001b[0;34m)\u001b[0m\u001b[0;34m)\u001b[0m\u001b[0;34m\u001b[0m\u001b[0;34m\u001b[0m\u001b[0m\n",
            "\u001b[0;32m/usr/local/lib/python3.7/dist-packages/sklearn/metrics/_regression.py\u001b[0m in \u001b[0;36mr2_score\u001b[0;34m(y_true, y_pred, sample_weight, multioutput)\u001b[0m\n\u001b[1;32m    773\u001b[0m     \"\"\"\n\u001b[1;32m    774\u001b[0m     y_type, y_true, y_pred, multioutput = _check_reg_targets(\n\u001b[0;32m--> 775\u001b[0;31m         \u001b[0my_true\u001b[0m\u001b[0;34m,\u001b[0m \u001b[0my_pred\u001b[0m\u001b[0;34m,\u001b[0m \u001b[0mmultioutput\u001b[0m\u001b[0;34m\u001b[0m\u001b[0;34m\u001b[0m\u001b[0m\n\u001b[0m\u001b[1;32m    776\u001b[0m     )\n\u001b[1;32m    777\u001b[0m     \u001b[0mcheck_consistent_length\u001b[0m\u001b[0;34m(\u001b[0m\u001b[0my_true\u001b[0m\u001b[0;34m,\u001b[0m \u001b[0my_pred\u001b[0m\u001b[0;34m,\u001b[0m \u001b[0msample_weight\u001b[0m\u001b[0;34m)\u001b[0m\u001b[0;34m\u001b[0m\u001b[0;34m\u001b[0m\u001b[0m\n",
            "\u001b[0;32m/usr/local/lib/python3.7/dist-packages/sklearn/metrics/_regression.py\u001b[0m in \u001b[0;36m_check_reg_targets\u001b[0;34m(y_true, y_pred, multioutput, dtype)\u001b[0m\n\u001b[1;32m     88\u001b[0m     \"\"\"\n\u001b[1;32m     89\u001b[0m     \u001b[0mcheck_consistent_length\u001b[0m\u001b[0;34m(\u001b[0m\u001b[0my_true\u001b[0m\u001b[0;34m,\u001b[0m \u001b[0my_pred\u001b[0m\u001b[0;34m)\u001b[0m\u001b[0;34m\u001b[0m\u001b[0;34m\u001b[0m\u001b[0m\n\u001b[0;32m---> 90\u001b[0;31m     \u001b[0my_true\u001b[0m \u001b[0;34m=\u001b[0m \u001b[0mcheck_array\u001b[0m\u001b[0;34m(\u001b[0m\u001b[0my_true\u001b[0m\u001b[0;34m,\u001b[0m \u001b[0mensure_2d\u001b[0m\u001b[0;34m=\u001b[0m\u001b[0;32mFalse\u001b[0m\u001b[0;34m,\u001b[0m \u001b[0mdtype\u001b[0m\u001b[0;34m=\u001b[0m\u001b[0mdtype\u001b[0m\u001b[0;34m)\u001b[0m\u001b[0;34m\u001b[0m\u001b[0;34m\u001b[0m\u001b[0m\n\u001b[0m\u001b[1;32m     91\u001b[0m     \u001b[0my_pred\u001b[0m \u001b[0;34m=\u001b[0m \u001b[0mcheck_array\u001b[0m\u001b[0;34m(\u001b[0m\u001b[0my_pred\u001b[0m\u001b[0;34m,\u001b[0m \u001b[0mensure_2d\u001b[0m\u001b[0;34m=\u001b[0m\u001b[0;32mFalse\u001b[0m\u001b[0;34m,\u001b[0m \u001b[0mdtype\u001b[0m\u001b[0;34m=\u001b[0m\u001b[0mdtype\u001b[0m\u001b[0;34m)\u001b[0m\u001b[0;34m\u001b[0m\u001b[0;34m\u001b[0m\u001b[0m\n\u001b[1;32m     92\u001b[0m \u001b[0;34m\u001b[0m\u001b[0m\n",
            "\u001b[0;32m/usr/local/lib/python3.7/dist-packages/sklearn/utils/validation.py\u001b[0m in \u001b[0;36mcheck_array\u001b[0;34m(array, accept_sparse, accept_large_sparse, dtype, order, copy, force_all_finite, ensure_2d, allow_nd, ensure_min_samples, ensure_min_features, estimator)\u001b[0m\n\u001b[1;32m    786\u001b[0m             raise ValueError(\n\u001b[1;32m    787\u001b[0m                 \u001b[0;34m\"Found array with dim %d. %s expected <= 2.\"\u001b[0m\u001b[0;34m\u001b[0m\u001b[0;34m\u001b[0m\u001b[0m\n\u001b[0;32m--> 788\u001b[0;31m                 \u001b[0;34m%\u001b[0m \u001b[0;34m(\u001b[0m\u001b[0marray\u001b[0m\u001b[0;34m.\u001b[0m\u001b[0mndim\u001b[0m\u001b[0;34m,\u001b[0m \u001b[0mestimator_name\u001b[0m\u001b[0;34m)\u001b[0m\u001b[0;34m\u001b[0m\u001b[0;34m\u001b[0m\u001b[0m\n\u001b[0m\u001b[1;32m    789\u001b[0m             )\n\u001b[1;32m    790\u001b[0m \u001b[0;34m\u001b[0m\u001b[0m\n",
            "\u001b[0;31mValueError\u001b[0m: Found array with dim 3. Estimator expected <= 2."
          ]
        }
      ]
    },
    {
      "cell_type": "code",
      "metadata": {
        "id": "dIKz_E0-dXbF",
        "colab": {
          "base_uri": "https://localhost:8080/"
        },
        "outputId": "eeef05db-c155-4acf-f051-863fbe97f96a"
      },
      "source": [
        "# Evaluation\n",
        "predY = model.predict(testX)\n",
        "r2_score_result = r2_score(testY, predY)\n",
        "adjusted_r2_score_result = 1 - (1-r2_score_result)*(len(testY)-1)/(len(testY)-testX.shape[1]-1)\n",
        "print('R^2_adj:',round(adjusted_r2_score_result,3))"
      ],
      "execution_count": 80,
      "outputs": [
        {
          "output_type": "stream",
          "name": "stdout",
          "text": [
            "R^2_adj: 0.909\n"
          ]
        }
      ]
    },
    {
      "cell_type": "code",
      "metadata": {
        "id": "oBliSEbIwKmm"
      },
      "source": [
        "# Rverse load values from Normalization\n",
        "testY_reverse = testY*(max_x - min_x) + min_x # To reverse\n",
        "predY_reverse = predY*(max_x - min_x) + min_x # To reverse"
      ],
      "execution_count": 81,
      "outputs": []
    },
    {
      "cell_type": "code",
      "metadata": {
        "colab": {
          "base_uri": "https://localhost:8080/",
          "height": 334
        },
        "id": "Ydbz_SsSwOuj",
        "outputId": "ca6268ec-ff93-46fd-94a2-01d8d04e9b6a"
      },
      "source": [
        "# visualizing the validation\n",
        "\n",
        "plt.figure(figsize=(18,5))\n",
        "plt.plot(testY_reverse)\n",
        "plt.plot(predY_reverse)\n",
        "# plt.plot(predY_reverse - testY_reverse)\n",
        "plt.xlabel(\"Hours in 2020\")\n",
        "plt.ylabel(\"Error [actual -- predict load]\")\n",
        "# plt.ylim([-450, 450])\n",
        "plt.show()"
      ],
      "execution_count": 82,
      "outputs": [
        {
          "output_type": "display_data",
          "data": {
            "image/png": "[encoded data removed]",
            "text/plain": [
              "<Figure size 1296x360 with 1 Axes>"
            ]
          },
          "metadata": {
            "needs_background": "light"
          }
        }
      ]
    },
    {
      "cell_type": "code",
      "metadata": {
        "colab": {
          "base_uri": "https://localhost:8080/",
          "height": 370
        },
        "id": "UPpK-j0v9KH_",
        "outputId": "6b4e09ff-f0bb-43b2-eb24-63bbaa7e64e4"
      },
      "source": [
        ""
      ],
      "execution_count": 103,
      "outputs": [
        {
          "output_type": "display_data",
          "data": {
            "image/png": "[encoded data removed]",
            "text/plain": [
              "<Figure size 1296x360 with 1 Axes>"
            ]
          },
          "metadata": {}
        }
      ]
    },
    {
      "cell_type": "markdown",
      "metadata": {
        "id": "ALbTVnuZFD-u"
      },
      "source": [
        "# Results\n"
      ]
    },
    {
      "cell_type": "code",
      "metadata": {
        "id": "PlP7MOBwdcIt"
      },
      "source": [
        "prev_forcast = predy_reverse[-720:]\n",
        "prev_values = trainY_reverse[-720:]\n",
        "df_prev_forecast = pd.DataFrame(data=prev_forcast.flatten(),  columns=['prev_forcast'])\n",
        "df_prev_forecast['prev_values']= prev_values\n",
        "\n",
        "print(df_prev_forecast)"
      ],
      "execution_count": 113,
      "outputs": []
    },
    {
      "cell_type": "code",
      "metadata": {
        "colab": {
          "base_uri": "https://localhost:8080/",
          "height": 17
        },
        "id": "3QsjY6gWesF7",
        "outputId": "32481a70-0fad-41d9-8674-f386ce835362"
      },
      "source": [
        "from google.colab import files\n",
        "df_prev_forecast.to_csv('pre_load_validation_forecast.csv') \n",
        "files.download('pre_load_validation_forecast.csv')"
      ],
      "execution_count": 115,
      "outputs": [
        {
          "output_type": "display_data",
          "data": {
            "application/javascript": [
              "\n",
              "    async function download(id, filename, size) {\n",
              "      if (!google.colab.kernel.accessAllowed) {\n",
              "        return;\n",
              "      }\n",
              "      const div = document.createElement('div');\n",
              "      const label = document.createElement('label');\n",
              "      label.textContent = `Downloading \"${filename}\": `;\n",
              "      div.appendChild(label);\n",
              "      const progress = document.createElement('progress');\n",
              "      progress.max = size;\n",
              "      div.appendChild(progress);\n",
              "      document.body.appendChild(div);\n",
              "\n",
              "      const buffers = [];\n",
              "      let downloaded = 0;\n",
              "\n",
              "      const channel = await google.colab.kernel.comms.open(id);\n",
              "      // Send a message to notify the kernel that we're ready.\n",
              "      channel.send({})\n",
              "\n",
              "      for await (const message of channel.messages) {\n",
              "        // Send a message to notify the kernel that we're ready.\n",
              "        channel.send({})\n",
              "        if (message.buffers) {\n",
              "          for (const buffer of message.buffers) {\n",
              "            buffers.push(buffer);\n",
              "            downloaded += buffer.byteLength;\n",
              "            progress.value = downloaded;\n",
              "          }\n",
              "        }\n",
              "      }\n",
              "      const blob = new Blob(buffers, {type: 'application/binary'});\n",
              "      const a = document.createElement('a');\n",
              "      a.href = window.URL.createObjectURL(blob);\n",
              "      a.download = filename;\n",
              "      div.appendChild(a);\n",
              "      a.click();\n",
              "      div.remove();\n",
              "    }\n",
              "  "
            ],
            "text/plain": [
              "<IPython.core.display.Javascript object>"
            ]
          },
          "metadata": {}
        },
        {
          "output_type": "display_data",
          "data": {
            "application/javascript": [
              "download(\"download_9662fffc-f8ac-4ee6-a027-3f9d20647ae4\", \"pre_load_validation_forecast.csv\", 15574)"
            ],
            "text/plain": [
              "<IPython.core.display.Javascript object>"
            ]
          },
          "metadata": {}
        }
      ]
    },
    {
      "cell_type": "code",
      "metadata": {
        "colab": {
          "base_uri": "https://localhost:8080/"
        },
        "id": "WXN5WcdEfROl",
        "outputId": "31943497-00bb-4749-9e04-866c905aabff"
      },
      "source": [
        "df_load_forecast = pd.DataFrame(data=predY_reverse.flatten(),  columns=['load_forecast'])\n",
        "df_load_forecast['testY_reverse']= testY_reverse\n",
        "print(df_load_forecast)"
      ],
      "execution_count": 87,
      "outputs": [
        {
          "output_type": "stream",
          "name": "stdout",
          "text": [
            "      load_forecast\n",
            "0      25514.066406\n",
            "1      24179.246094\n",
            "2      23146.488281\n",
            "3      22509.876953\n",
            "4      22091.531250\n",
            "...             ...\n",
            "6571   25790.898438\n",
            "6572   26181.886719\n",
            "6573   26208.970703\n",
            "6574   25787.125000\n",
            "6575   24596.894531\n",
            "\n",
            "[6576 rows x 1 columns]\n"
          ]
        }
      ]
    },
    {
      "cell_type": "code",
      "metadata": {
        "colab": {
          "base_uri": "https://localhost:8080/",
          "height": 17
        },
        "id": "3C6rZ6xyesmk",
        "outputId": "ff2cd28f-5af5-43fa-fa3b-959dfcecf482"
      },
      "source": [
        "from google.colab import files\n",
        "df_load_forecast.to_csv('load_validation_forecast.csv') \n",
        "files.download('load_validation_forecast.csv')"
      ],
      "execution_count": 90,
      "outputs": [
        {
          "output_type": "display_data",
          "data": {
            "application/javascript": [
              "\n",
              "    async function download(id, filename, size) {\n",
              "      if (!google.colab.kernel.accessAllowed) {\n",
              "        return;\n",
              "      }\n",
              "      const div = document.createElement('div');\n",
              "      const label = document.createElement('label');\n",
              "      label.textContent = `Downloading \"${filename}\": `;\n",
              "      div.appendChild(label);\n",
              "      const progress = document.createElement('progress');\n",
              "      progress.max = size;\n",
              "      div.appendChild(progress);\n",
              "      document.body.appendChild(div);\n",
              "\n",
              "      const buffers = [];\n",
              "      let downloaded = 0;\n",
              "\n",
              "      const channel = await google.colab.kernel.comms.open(id);\n",
              "      // Send a message to notify the kernel that we're ready.\n",
              "      channel.send({})\n",
              "\n",
              "      for await (const message of channel.messages) {\n",
              "        // Send a message to notify the kernel that we're ready.\n",
              "        channel.send({})\n",
              "        if (message.buffers) {\n",
              "          for (const buffer of message.buffers) {\n",
              "            buffers.push(buffer);\n",
              "            downloaded += buffer.byteLength;\n",
              "            progress.value = downloaded;\n",
              "          }\n",
              "        }\n",
              "      }\n",
              "      const blob = new Blob(buffers, {type: 'application/binary'});\n",
              "      const a = document.createElement('a');\n",
              "      a.href = window.URL.createObjectURL(blob);\n",
              "      a.download = filename;\n",
              "      div.appendChild(a);\n",
              "      a.click();\n",
              "      div.remove();\n",
              "    }\n",
              "  "
            ],
            "text/plain": [
              "<IPython.core.display.Javascript object>"
            ]
          },
          "metadata": {}
        },
        {
          "output_type": "display_data",
          "data": {
            "application/javascript": [
              "download(\"download_8448feb6-f178-45ac-bd89-bd9772659720\", \"load_validation_forecast.csv\", 148699)"
            ],
            "text/plain": [
              "<IPython.core.display.Javascript object>"
            ]
          },
          "metadata": {}
        }
      ]
    },
    {
      "cell_type": "markdown",
      "metadata": {
        "id": "vTvWPuMKKNb-"
      },
      "source": [
        "Conclusion"
      ]
    },
    {
      "cell_type": "code",
      "metadata": {
        "id": "XnoVmnSuJpvF"
      },
      "source": [
        ""
      ],
      "execution_count": null,
      "outputs": []
    }
  ]
}